{
 "cells": [
  {
   "cell_type": "markdown",
   "source": [
    "https://towardsdatascience.com/building-a-logistic-regression-in-python-step-by-step-becd4d56c9c8\r\n",
    "https://scikit-learn.org/stable/modules/generated/sklearn.linear_model.LogisticRegression.html\r\n"
   ],
   "metadata": {}
  },
  {
   "cell_type": "code",
   "execution_count": 1,
   "source": [
    "import pandas as pd\r\n",
    "import numpy as np\r\n",
    "import pickle\r\n",
    "import re\r\n",
    "from konlpy.tag import Okt         ; t = Okt()\r\n",
    "\r\n",
    "import warnings\r\n",
    "warnings.filterwarnings('ignore')\r\n",
    "\r\n",
    "from sklearn.model_selection import train_test_split\r\n",
    "from sklearn.feature_extraction.text import CountVectorizer\r\n",
    "from sklearn.feature_extraction.text import TfidfTransformer\r\n",
    "from sklearn.naive_bayes import MultinomialNB\r\n",
    "from sklearn.linear_model import LogisticRegression\r\n",
    "from sklearn import metrics"
   ],
   "outputs": [],
   "metadata": {}
  },
  {
   "cell_type": "code",
   "execution_count": 2,
   "source": [
    "with open('./with_name/LDA_clean_scaled_final.pkl', 'rb') as f:\r\n",
    "    corpus = pickle.load(f)"
   ],
   "outputs": [],
   "metadata": {}
  },
  {
   "cell_type": "code",
   "execution_count": 5,
   "source": [
    "new_sent = new_sent.str.replace('\\s+', ' ', regex=True)\r\n",
    "new_sent = new_sent.map(lambda x: re.sub('[0-9,.!·,…*°>%@#&$<_?.:\\“\\/\\”\\’\\'\\\"\\^\\\\‘\\|\\`\\(\\)\\[\\]\\{\\}]', '', x))\r\n",
    "new_sent = new_sent.map(lambda x: re.sub('\\u200c', '', x))\r\n",
    "new_sent = new_sent.map(lambda x: re.sub('[-–ㆍ]', ' ', x))\r\n",
    "\r\n",
    "stop_words = ['\\u200c','\\n ','\\n',\"'\",'…',',','[',']','(',')','\"','주','에','·','장','-','적',\\\r\n",
    "              '도','‘','`','가','’','의','이','★','은','“','대','”','한','B','로',\\\r\n",
    "              '?','선','A','는','!','\"…','상','들','제','…\"','일','서','명',\"'…\",'기',\\\r\n",
    "              '···','소','등','자','전','률','미','...','세','시','안','폭',\"…'\",'만','억',\\\r\n",
    "              '눈','더','량','고','인','성','다','감','을','지','수','것','째',\\\r\n",
    "              '기','···','중','계','왜','총','내','과','젠','또','연','엔','차','할',\\\r\n",
    "              '새','사','때','..','임','속','’…','G','나','개','원',\\\r\n",
    "             '달','→','권','?…','간','배','K','저','와','하','/','조','두','분','형',\\\r\n",
    "             '황','공','&','보','문','익','X','억원',']\"','치','산','를','오','해','S','그','된','준','▶',\\\r\n",
    "             '건','재','반','라','년','초','분','월','신','p','급','줄','경','구','진','올','발','vs','강',\\\r\n",
    "             '국','난','판','면','\"(','`…','살','아','번','텍','팜','Q','메','점','월',\\\r\n",
    "             'D','비','됐다','채',\"]'\",'보니','손','확','종','동','팔','타','~','땐','말','요',\\\r\n",
    "             \"',\",'스','…`','단','길','회','호','용','듯','최']\r\n",
    "\r\n",
    "new_sent = [each_word for each_word in new_sent if each_word not in stop_words]"
   ],
   "outputs": [],
   "metadata": {}
  },
  {
   "cell_type": "code",
   "execution_count": 3,
   "source": [
    "\r\n",
    "print('Number of Price up: {}'.format(corpus['주가변동'].value_counts()[1]))\r\n",
    "print('Number of Price down: {}'.format(corpus['주가변동'].value_counts()[0]))"
   ],
   "outputs": [
    {
     "output_type": "stream",
     "name": "stdout",
     "text": [
      "Number of Price up: 124141\n",
      "Number of Price down: 124141\n"
     ]
    }
   ],
   "metadata": {}
  },
  {
   "cell_type": "code",
   "execution_count": 42,
   "source": [
    "# save model\r\n",
    "\r\n",
    "# with open('./with_name/LDA_clean_scaled_final.pkl', 'wb') as f:\r\n",
    "#     pickle.dump(sCorpus, f)"
   ],
   "outputs": [],
   "metadata": {}
  },
  {
   "cell_type": "code",
   "execution_count": 8,
   "source": [
    "corpus"
   ],
   "outputs": [
    {
     "output_type": "execute_result",
     "data": {
      "text/plain": [
       "                                         뉴스제목  주가변동   문서 번호  가장 비중이 높은 토픽  \\\n",
       "0                 LG생활건강 숨 로시크숨마 황제의 빛 에디션 선봬     1       0             1   \n",
       "6                   SK에너지GS칼텍스 공유경제동반성장 다 잡았다     0       6             0   \n",
       "9                   CNN 한국 대표 혁신 기업으로 삼성전자 소개     0       9             0   \n",
       "10                     한경로보뉴스 맥쿼리인프라 주 신고가 경신     1      10             1   \n",
       "12            현대모비스 자율주행 첨단 센서로 차량내부 안전시스템 구축     0      12             0   \n",
       "...                                       ...   ...     ...           ...   \n",
       "611457               한샘 분기 이후 실적 턴어라운드 예상 KTB     0  611457             0   \n",
       "611458              한미약품 임직원 자녀 위한 꿈나무어린이집 개원     1  611458             1   \n",
       "611461  단독 백신 대란에SK바이오사이언스 독감 접고 코로나 백신 생산 올인     1  611461             1   \n",
       "611466                CJ제일제당 글로벌 수준 경영 인프라 구축     0  611466             0   \n",
       "611472           KT주도 클라우드 원팀에 한컴 등 개 기업기관 합류     0  611472             0   \n",
       "\n",
       "        가장 높은 토픽의 비중                             각 토픽의 비중  str_len  \n",
       "0             0.9640  [(0, 0.035994086), (1, 0.96400595)]       27  \n",
       "6             0.9211   [(0, 0.9211468), (1, 0.078853145)]       25  \n",
       "9             0.9234    [(0, 0.92337716), (1, 0.0766229)]       25  \n",
       "10            0.9390    [(0, 0.06101659), (1, 0.9389834)]       22  \n",
       "12            0.9572   [(0, 0.9572409), (1, 0.042759143)]       31  \n",
       "...              ...                                  ...      ...  \n",
       "611457        0.7651    [(0, 0.76507807), (1, 0.2349219)]       24  \n",
       "611458        0.5119    [(0, 0.4881193), (1, 0.51188064)]       25  \n",
       "611461        0.9454    [(0, 0.05455975), (1, 0.9454403)]       37  \n",
       "611466        0.5721   [(0, 0.57210296), (1, 0.42789704)]       23  \n",
       "611472        0.5888    [(0, 0.58883274), (1, 0.4111673)]       28  \n",
       "\n",
       "[248282 rows x 7 columns]"
      ],
      "text/html": [
       "<div>\n",
       "<style scoped>\n",
       "    .dataframe tbody tr th:only-of-type {\n",
       "        vertical-align: middle;\n",
       "    }\n",
       "\n",
       "    .dataframe tbody tr th {\n",
       "        vertical-align: top;\n",
       "    }\n",
       "\n",
       "    .dataframe thead th {\n",
       "        text-align: right;\n",
       "    }\n",
       "</style>\n",
       "<table border=\"1\" class=\"dataframe\">\n",
       "  <thead>\n",
       "    <tr style=\"text-align: right;\">\n",
       "      <th></th>\n",
       "      <th>뉴스제목</th>\n",
       "      <th>주가변동</th>\n",
       "      <th>문서 번호</th>\n",
       "      <th>가장 비중이 높은 토픽</th>\n",
       "      <th>가장 높은 토픽의 비중</th>\n",
       "      <th>각 토픽의 비중</th>\n",
       "      <th>str_len</th>\n",
       "    </tr>\n",
       "  </thead>\n",
       "  <tbody>\n",
       "    <tr>\n",
       "      <th>0</th>\n",
       "      <td>LG생활건강 숨 로시크숨마 황제의 빛 에디션 선봬</td>\n",
       "      <td>1</td>\n",
       "      <td>0</td>\n",
       "      <td>1</td>\n",
       "      <td>0.9640</td>\n",
       "      <td>[(0, 0.035994086), (1, 0.96400595)]</td>\n",
       "      <td>27</td>\n",
       "    </tr>\n",
       "    <tr>\n",
       "      <th>6</th>\n",
       "      <td>SK에너지GS칼텍스 공유경제동반성장 다 잡았다</td>\n",
       "      <td>0</td>\n",
       "      <td>6</td>\n",
       "      <td>0</td>\n",
       "      <td>0.9211</td>\n",
       "      <td>[(0, 0.9211468), (1, 0.078853145)]</td>\n",
       "      <td>25</td>\n",
       "    </tr>\n",
       "    <tr>\n",
       "      <th>9</th>\n",
       "      <td>CNN 한국 대표 혁신 기업으로 삼성전자 소개</td>\n",
       "      <td>0</td>\n",
       "      <td>9</td>\n",
       "      <td>0</td>\n",
       "      <td>0.9234</td>\n",
       "      <td>[(0, 0.92337716), (1, 0.0766229)]</td>\n",
       "      <td>25</td>\n",
       "    </tr>\n",
       "    <tr>\n",
       "      <th>10</th>\n",
       "      <td>한경로보뉴스 맥쿼리인프라 주 신고가 경신</td>\n",
       "      <td>1</td>\n",
       "      <td>10</td>\n",
       "      <td>1</td>\n",
       "      <td>0.9390</td>\n",
       "      <td>[(0, 0.06101659), (1, 0.9389834)]</td>\n",
       "      <td>22</td>\n",
       "    </tr>\n",
       "    <tr>\n",
       "      <th>12</th>\n",
       "      <td>현대모비스 자율주행 첨단 센서로 차량내부 안전시스템 구축</td>\n",
       "      <td>0</td>\n",
       "      <td>12</td>\n",
       "      <td>0</td>\n",
       "      <td>0.9572</td>\n",
       "      <td>[(0, 0.9572409), (1, 0.042759143)]</td>\n",
       "      <td>31</td>\n",
       "    </tr>\n",
       "    <tr>\n",
       "      <th>...</th>\n",
       "      <td>...</td>\n",
       "      <td>...</td>\n",
       "      <td>...</td>\n",
       "      <td>...</td>\n",
       "      <td>...</td>\n",
       "      <td>...</td>\n",
       "      <td>...</td>\n",
       "    </tr>\n",
       "    <tr>\n",
       "      <th>611457</th>\n",
       "      <td>한샘 분기 이후 실적 턴어라운드 예상 KTB</td>\n",
       "      <td>0</td>\n",
       "      <td>611457</td>\n",
       "      <td>0</td>\n",
       "      <td>0.7651</td>\n",
       "      <td>[(0, 0.76507807), (1, 0.2349219)]</td>\n",
       "      <td>24</td>\n",
       "    </tr>\n",
       "    <tr>\n",
       "      <th>611458</th>\n",
       "      <td>한미약품 임직원 자녀 위한 꿈나무어린이집 개원</td>\n",
       "      <td>1</td>\n",
       "      <td>611458</td>\n",
       "      <td>1</td>\n",
       "      <td>0.5119</td>\n",
       "      <td>[(0, 0.4881193), (1, 0.51188064)]</td>\n",
       "      <td>25</td>\n",
       "    </tr>\n",
       "    <tr>\n",
       "      <th>611461</th>\n",
       "      <td>단독 백신 대란에SK바이오사이언스 독감 접고 코로나 백신 생산 올인</td>\n",
       "      <td>1</td>\n",
       "      <td>611461</td>\n",
       "      <td>1</td>\n",
       "      <td>0.9454</td>\n",
       "      <td>[(0, 0.05455975), (1, 0.9454403)]</td>\n",
       "      <td>37</td>\n",
       "    </tr>\n",
       "    <tr>\n",
       "      <th>611466</th>\n",
       "      <td>CJ제일제당 글로벌 수준 경영 인프라 구축</td>\n",
       "      <td>0</td>\n",
       "      <td>611466</td>\n",
       "      <td>0</td>\n",
       "      <td>0.5721</td>\n",
       "      <td>[(0, 0.57210296), (1, 0.42789704)]</td>\n",
       "      <td>23</td>\n",
       "    </tr>\n",
       "    <tr>\n",
       "      <th>611472</th>\n",
       "      <td>KT주도 클라우드 원팀에 한컴 등 개 기업기관 합류</td>\n",
       "      <td>0</td>\n",
       "      <td>611472</td>\n",
       "      <td>0</td>\n",
       "      <td>0.5888</td>\n",
       "      <td>[(0, 0.58883274), (1, 0.4111673)]</td>\n",
       "      <td>28</td>\n",
       "    </tr>\n",
       "  </tbody>\n",
       "</table>\n",
       "<p>248282 rows × 7 columns</p>\n",
       "</div>"
      ]
     },
     "metadata": {},
     "execution_count": 8
    }
   ],
   "metadata": {}
  },
  {
   "cell_type": "code",
   "execution_count": 4,
   "source": [
    "x_train, x_test, y_train, y_test = train_test_split(corpus['뉴스제목'], corpus['주가변동'], random_state=0)"
   ],
   "outputs": [],
   "metadata": {}
  },
  {
   "cell_type": "code",
   "execution_count": 5,
   "source": [
    "print('훈련용 뉴스 기사의 갯수 :', len(x_train))\r\n",
    "print('테스트용 뉴스 기사의 갯수 :', len(x_test))\r\n",
    "print('훈련용 레이블의 갯수 : ', len(y_train))\r\n",
    "print('테스트용 레이블의 갯수 :', len(y_test))"
   ],
   "outputs": [
    {
     "output_type": "stream",
     "name": "stdout",
     "text": [
      "훈련용 뉴스 기사의 갯수 : 186211\n",
      "테스트용 뉴스 기사의 갯수 : 62071\n",
      "훈련용 레이블의 갯수 :  186211\n",
      "테스트용 레이블의 갯수 : 62071\n"
     ]
    }
   ],
   "metadata": {}
  },
  {
   "cell_type": "code",
   "execution_count": 6,
   "source": [
    "# dtm\r\n",
    "count_vect = CountVectorizer()\r\n",
    "x_train_counts = count_vect.fit_transform(x_train)\r\n",
    "# fit_transform : 학습할 때와 동일한 기반 설정으로 동일하게 테스트 데이터를 변환해야 하는 것\r\n",
    "\r\n",
    "# tfidf\r\n",
    "tfidf_transformer = TfidfTransformer()\r\n",
    "x_train_tfidf = tfidf_transformer.fit_transform(x_train_counts)"
   ],
   "outputs": [],
   "metadata": {}
  },
  {
   "cell_type": "code",
   "execution_count": 7,
   "source": [
    "def tfidf_vectorizer(data):\r\n",
    "  data_counts = count_vect.transform(data)\r\n",
    "  data_tfidf = tfidf_transformer.transform(data_counts)\r\n",
    "  return data_tfidf"
   ],
   "outputs": [],
   "metadata": {}
  },
  {
   "cell_type": "code",
   "execution_count": 8,
   "source": [
    "clf = MultinomialNB().fit(x_train_tfidf, y_train )\r\n",
    "\r\n",
    "y_pred = clf.predict(tfidf_vectorizer(x_test))\r\n",
    "print(metrics.classification_report(y_test, y_pred))"
   ],
   "outputs": [
    {
     "output_type": "stream",
     "name": "stdout",
     "text": [
      "              precision    recall  f1-score   support\n",
      "\n",
      "           0       0.92      0.94      0.93     31121\n",
      "           1       0.94      0.92      0.93     30950\n",
      "\n",
      "    accuracy                           0.93     62071\n",
      "   macro avg       0.93      0.93      0.93     62071\n",
      "weighted avg       0.93      0.93      0.93     62071\n",
      "\n"
     ]
    }
   ],
   "metadata": {}
  },
  {
   "cell_type": "code",
   "execution_count": 9,
   "source": [
    "clf_lr = LogisticRegression(random_state=0).fit(x_train_tfidf, y_train)\r\n",
    "\r\n",
    "y_pred = clf_lr.predict(tfidf_vectorizer(x_test))\r\n",
    "print(metrics.classification_report(y_test, y_pred))"
   ],
   "outputs": [
    {
     "output_type": "stream",
     "name": "stdout",
     "text": [
      "              precision    recall  f1-score   support\n",
      "\n",
      "           0       0.92      0.93      0.93     31121\n",
      "           1       0.93      0.92      0.92     30950\n",
      "\n",
      "    accuracy                           0.92     62071\n",
      "   macro avg       0.92      0.92      0.92     62071\n",
      "weighted avg       0.92      0.92      0.92     62071\n",
      "\n"
     ]
    }
   ],
   "metadata": {}
  },
  {
   "cell_type": "code",
   "execution_count": 10,
   "source": [
    "from sklearn.tree import DecisionTreeClassifier\r\n",
    "clf_dt = DecisionTreeClassifier(random_state=0).fit(x_train_tfidf, y_train)\r\n",
    "\r\n",
    "y_pred = clf_dt.predict(tfidf_vectorizer(x_test))\r\n",
    "print(metrics.classification_report(y_test, y_pred))"
   ],
   "outputs": [
    {
     "output_type": "stream",
     "name": "stdout",
     "text": [
      "              precision    recall  f1-score   support\n",
      "\n",
      "           0       0.88      0.89      0.89     31121\n",
      "           1       0.89      0.88      0.89     30950\n",
      "\n",
      "    accuracy                           0.89     62071\n",
      "   macro avg       0.89      0.89      0.89     62071\n",
      "weighted avg       0.89      0.89      0.89     62071\n",
      "\n"
     ]
    }
   ],
   "metadata": {}
  },
  {
   "cell_type": "code",
   "execution_count": 11,
   "source": [
    "from sklearn.ensemble import RandomForestClassifier\r\n",
    "#clf_rf = RandomForestClassifier(n_estimators=200, random_state=0).fit(x_train_tfidf, y_train) #0.84\r\n",
    "clf_rf = RandomForestClassifier(random_state=0).fit(x_train_tfidf, y_train)\r\n",
    "\r\n",
    "y_pred = clf_rf.predict(tfidf_vectorizer(x_test))\r\n",
    "print(metrics.classification_report(y_test, y_pred))"
   ],
   "outputs": [
    {
     "output_type": "stream",
     "name": "stdout",
     "text": [
      "              precision    recall  f1-score   support\n",
      "\n",
      "           0       0.91      0.92      0.92     31121\n",
      "           1       0.92      0.91      0.91     30950\n",
      "\n",
      "    accuracy                           0.92     62071\n",
      "   macro avg       0.92      0.92      0.92     62071\n",
      "weighted avg       0.92      0.92      0.92     62071\n",
      "\n"
     ]
    }
   ],
   "metadata": {}
  },
  {
   "cell_type": "code",
   "execution_count": 12,
   "source": [
    "from sklearn.ensemble import GradientBoostingClassifier\r\n",
    "#clf_gb = GradientBoostingClassifier(n_estimators=200, learning_rate=1.0, max_depth=1, random_state=0).fit(x_train_tfidf, y_train) #0.82\r\n",
    "clf_gb = GradientBoostingClassifier(random_state=0).fit(x_train_tfidf, y_train)\r\n",
    "\r\n",
    "y_pred = clf_gb.predict(tfidf_vectorizer(x_test))\r\n",
    "print(metrics.classification_report(y_test, y_pred))"
   ],
   "outputs": [
    {
     "output_type": "stream",
     "name": "stdout",
     "text": [
      "              precision    recall  f1-score   support\n",
      "\n",
      "           0       0.88      0.50      0.64     31121\n",
      "           1       0.65      0.93      0.77     30950\n",
      "\n",
      "    accuracy                           0.72     62071\n",
      "   macro avg       0.77      0.72      0.70     62071\n",
      "weighted avg       0.77      0.72      0.70     62071\n",
      "\n"
     ]
    }
   ],
   "metadata": {}
  },
  {
   "cell_type": "code",
   "execution_count": 13,
   "source": [
    "from sklearn.svm import LinearSVC\r\n",
    "clf_svm = LinearSVC(random_state=0).fit(x_train_tfidf, y_train)\r\n",
    "\r\n",
    "y_pred = clf_svm.predict(tfidf_vectorizer(x_test))\r\n",
    "print(metrics.classification_report(y_test, y_pred))"
   ],
   "outputs": [
    {
     "output_type": "stream",
     "name": "stdout",
     "text": [
      "              precision    recall  f1-score   support\n",
      "\n",
      "           0       0.95      0.95      0.95     31121\n",
      "           1       0.95      0.95      0.95     30950\n",
      "\n",
      "    accuracy                           0.95     62071\n",
      "   macro avg       0.95      0.95      0.95     62071\n",
      "weighted avg       0.95      0.95      0.95     62071\n",
      "\n"
     ]
    }
   ],
   "metadata": {}
  },
  {
   "cell_type": "code",
   "execution_count": 17,
   "source": [
    "with open('./saved_models/quickML/clf_svm.pkl', 'wb') as fid:\r\n",
    "    pickle.dump(clf_svm, fid)   \r\n",
    "\r\n",
    "with open('./saved_models/quickML/clf_gb.pkl', 'wb') as fid:\r\n",
    "    pickle.dump(clf_gb, fid)   \r\n",
    "\r\n",
    "with open('./saved_models/quickML/clf_rf.pkl', 'wb') as fid:\r\n",
    "    pickle.dump(clf_rf, fid)   \r\n",
    "\r\n",
    "with open('./saved_models/quickML/clf_dt.pkl', 'wb') as fid:\r\n",
    "    pickle.dump(clf_dt, fid)  \r\n",
    "\r\n",
    "with open('./saved_models/quickML/clf_lr.pkl', 'wb') as fid:\r\n",
    "    pickle.dump(clf_lr, fid)\r\n",
    "\r\n",
    "with open('./saved_models/quickML/clf_nb.pkl', 'wb') as fid:\r\n",
    "    pickle.dump(clf, fid)"
   ],
   "outputs": [],
   "metadata": {}
  }
 ],
 "metadata": {
  "orig_nbformat": 4,
  "language_info": {
   "name": "python",
   "version": "3.9.6",
   "mimetype": "text/x-python",
   "codemirror_mode": {
    "name": "ipython",
    "version": 3
   },
   "pygments_lexer": "ipython3",
   "nbconvert_exporter": "python",
   "file_extension": ".py"
  },
  "kernelspec": {
   "name": "python3",
   "display_name": "Python 3.9.6 64-bit"
  },
  "interpreter": {
   "hash": "5bbcfba0af128e6b66c2bfbf999bccbbcb5a23b4768301f164b5fec2568e5d70"
  }
 },
 "nbformat": 4,
 "nbformat_minor": 2
}