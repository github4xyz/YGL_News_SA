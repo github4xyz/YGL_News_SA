{
 "cells": [
  {
   "cell_type": "code",
   "execution_count": 2,
   "source": [
    "import numpy as np\r\n",
    "import pandas as pd\r\n",
    "import re\r\n"
   ],
   "outputs": [],
   "metadata": {}
  },
  {
   "cell_type": "code",
   "execution_count": 19,
   "source": [
    "df_without = pd.read_csv('./without_name/EDA_headlines.tsv', sep=\"\\t\")\r\n",
    "df_with = pd.read_csv('./with_name/EDA_headlines.tsv', sep=\"\\t\") \r\n",
    "\r\n",
    "df_temp = df_without.sample(100)"
   ],
   "outputs": [],
   "metadata": {}
  },
  {
   "cell_type": "code",
   "execution_count": 20,
   "source": [
    "# first attempt to keep some Stock market specific words\r\n",
    "df_without['뉴스제목'] = df_without['뉴스제목'].str.replace('\\s+', ' ', regex=True)\r\n",
    "df_without['뉴스제목'] = df_without['뉴스제목'].map(lambda x: re.sub('[,.!·,…*)-@#%(&$_?.\\’\\'\\\"\\^\\\\‘|\\(\\)\\[\\]\\<\\>\\`]', '', x))\r\n",
    "\r\n",
    "df_with['뉴스제목'] = df_with['뉴스제목'].str.replace('\\s+', ' ', regex=True)\r\n",
    "df_with['뉴스제목'] = df_with['뉴스제목'].map(lambda x: re.sub('[,.!·,…*)-@#%(&$_?.\\’\\'\\\"\\^\\\\‘|\\(\\)\\[\\]\\<\\>\\`]', '', x))\r\n"
   ],
   "outputs": [],
   "metadata": {}
  },
  {
   "cell_type": "code",
   "execution_count": 22,
   "source": [
    "df_without.to_csv('./without_name/Cleaned_headlines.tsv', index=False, encoding='utf-8', sep=\"\\t\")\r\n",
    "df_with.to_csv('./with_name/Cleaned_headlines.tsv', index=False, encoding='utf-8', sep=\"\\t\")"
   ],
   "outputs": [],
   "metadata": {}
  },
  {
   "cell_type": "code",
   "execution_count": 21,
   "source": [
    "print(df_without.sample(200))"
   ],
   "outputs": [
    {
     "output_type": "stream",
     "name": "stdout",
     "text": [
      "                                       뉴스제목  주가변동\n",
      "355584      마켓인사이트올 분기 대규모 적자에하락 압력 커지는 신용도     1\n",
      "513143           백악관 회의 참석한 대화 기회 준 바이든에 감사     1\n",
      "444957            마블 퓨처파이트 주년 기념 대규모 이벤트 실시     0\n",
      "449874   쾌적성과 직주근접성을 두마리 토끼 잡다 위브더제니스 양산 분양     0\n",
      "519671  음료 아이시스  무라벨 생수 출시 등 친환경 생수 브랜드 경쟁력     1\n",
      "...                                     ...   ...\n",
      "186229             SKT G빅데이터 활용 중기 특화 금융서비스     1\n",
      "255810                포토 홍콩에 등장한 올레드 갤러리 TV     0\n",
      "103488           ET투자뉴스 시선은  분기로 BUY메리츠종금증권     0\n",
      "185695         文정부 비판여성비하 영상 강제시청 논란에 주가 하락     0\n",
      "147373            미래 개발자 육성 게임아카데미 기 발대식 개최     0\n",
      "\n",
      "[200 rows x 2 columns]\n"
     ]
    }
   ],
   "metadata": {}
  },
  {
   "cell_type": "code",
   "execution_count": 23,
   "source": [
    "from sklearn.model_selection import train_test_split\r\n",
    "\r\n",
    "train_without, test_without = train_test_split(df_without, test_size=.2)\r\n",
    "train_with, test_with = train_test_split(df_with, test_size=.2)\r\n"
   ],
   "outputs": [],
   "metadata": {}
  },
  {
   "cell_type": "code",
   "execution_count": 28,
   "source": [
    "counter = 1\r\n",
    "for _, line in train_without.iterrows():\r\n",
    "\r\n",
    "    if line[\"주가변동\"] == 0:\r\n",
    "        sen = line[\"뉴스제목\"]\r\n",
    "        filename = './without_name/classes_o/train/0/{0:06d}.txt'.format(counter)\r\n",
    "        text_file = open(filename, \"w\", encoding='utf-8')\r\n",
    "        text_file.write(sen)\r\n",
    "        text_file.close()\r\n",
    "    else:\r\n",
    "        sen = line[\"뉴스제목\"]\r\n",
    "        filename = './without_name/classes_o/train/1/{0:06d}.txt'.format(counter)\r\n",
    "        text_file = open(filename, \"w\", encoding='utf-8')\r\n",
    "        text_file.write(sen)\r\n",
    "        text_file.close()\r\n",
    "\r\n",
    "    counter += 1\r\n",
    "\r\n",
    "counter = 1\r\n",
    "for _, line in test_without.iterrows():\r\n",
    "\r\n",
    "    if line[\"주가변동\"] == 0:\r\n",
    "        sen = line[\"뉴스제목\"]\r\n",
    "        filename = './without_name/classes_o/test/0/{0:06d}.txt'.format(counter)\r\n",
    "        text_file = open(filename, \"w\", encoding='utf-8')\r\n",
    "        text_file.write(sen)\r\n",
    "        text_file.close()\r\n",
    "    else:\r\n",
    "        sen = line[\"뉴스제목\"]\r\n",
    "        filename = './without_name/classes_o/test/1/{0:06d}.txt'.format(counter)\r\n",
    "        text_file = open(filename, \"w\", encoding='utf-8')\r\n",
    "        text_file.write(sen)\r\n",
    "        text_file.close()\r\n",
    "\r\n",
    "    counter += 1"
   ],
   "outputs": [],
   "metadata": {}
  },
  {
   "cell_type": "code",
   "execution_count": 26,
   "source": [
    "counter = 1\r\n",
    "for _, line in train_with.iterrows():\r\n",
    "\r\n",
    "    if line[\"주가변동\"] == 0:\r\n",
    "        sen = line[\"뉴스제목\"]\r\n",
    "        filename = './with_name/classes/train/0/{0:06d}.txt'.format(counter)\r\n",
    "        text_file = open(filename, \"w\", encoding='utf-8')\r\n",
    "        text_file.write(sen)\r\n",
    "        text_file.close()\r\n",
    "    else:\r\n",
    "        sen = line[\"뉴스제목\"]\r\n",
    "        filename = './with_name/classes/train/1/{0:06d}.txt'.format(counter)\r\n",
    "        text_file = open(filename, \"w\", encoding='utf-8')\r\n",
    "        text_file.write(sen)\r\n",
    "        text_file.close()\r\n",
    "\r\n",
    "    counter += 1\r\n",
    "\r\n",
    "counter = 1\r\n",
    "for _, line in test_with.iterrows():\r\n",
    "\r\n",
    "    if line[\"주가변동\"] == 0:\r\n",
    "        sen = line[\"뉴스제목\"]\r\n",
    "        filename = './with_name/classes/test/0/{0:06d}.txt'.format(counter)\r\n",
    "        text_file = open(filename, \"w\", encoding='utf-8')\r\n",
    "        text_file.write(sen)\r\n",
    "        text_file.close()\r\n",
    "    else:\r\n",
    "        sen = line[\"뉴스제목\"]\r\n",
    "        filename = './with_name/classes/test/1/{0:06d}.txt'.format(counter)\r\n",
    "        text_file = open(filename, \"w\", encoding='utf-8')\r\n",
    "        text_file.write(sen)\r\n",
    "        text_file.close()\r\n",
    "\r\n",
    "    counter += 1"
   ],
   "outputs": [],
   "metadata": {}
  }
 ],
 "metadata": {
  "orig_nbformat": 4,
  "language_info": {
   "name": "python",
   "version": "3.8.10",
   "mimetype": "text/x-python",
   "codemirror_mode": {
    "name": "ipython",
    "version": 3
   },
   "pygments_lexer": "ipython3",
   "nbconvert_exporter": "python",
   "file_extension": ".py"
  },
  "kernelspec": {
   "name": "python3",
   "display_name": "Python 3.8.10 64-bit"
  },
  "interpreter": {
   "hash": "d6bac1793a866820647c8b3d738f5e40d1c65a0a78567c3290e37dbaaa960ea0"
  }
 },
 "nbformat": 4,
 "nbformat_minor": 2
}