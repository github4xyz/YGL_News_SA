{
 "cells": [
  {
   "cell_type": "markdown",
   "source": [
    "https://towardsdatascience.com/building-a-logistic-regression-in-python-step-by-step-becd4d56c9c8\r\n",
    "https://scikit-learn.org/stable/modules/generated/sklearn.linear_model.LogisticRegression.html\r\n"
   ],
   "metadata": {}
  },
  {
   "cell_type": "code",
   "execution_count": 2,
   "source": [
    "import pandas as pd\r\n",
    "import numpy as np\r\n",
    "import pickle\r\n",
    "\r\n",
    "\r\n",
    "import warnings\r\n",
    "warnings.filterwarnings('ignore')"
   ],
   "outputs": [],
   "metadata": {}
  },
  {
   "cell_type": "code",
   "execution_count": 3,
   "source": [
    "with open('./with_name/clean_EDA_ready.pkl', 'rb') as f:\r\n",
    "    courpus = pickle.load(f)"
   ],
   "outputs": [],
   "metadata": {}
  },
  {
   "cell_type": "code",
   "execution_count": null,
   "source": [
    "# with open('./with_name/----.pkl', 'wb') as f:\r\n",
    "#     pickle.dump(corpus, f)"
   ],
   "outputs": [],
   "metadata": {}
  },
  {
   "cell_type": "code",
   "execution_count": 4,
   "source": [
    "courpus"
   ],
   "outputs": [
    {
     "output_type": "execute_result",
     "data": {
      "text/plain": [
       "                                     뉴스제목  주가변동\n",
       "0             LG생활건강 숨 로시크숨마 황제의 빛 에디션 선봬     1\n",
       "1            IRSK이노베이션 내년 시설투자 올해보다 낮은 수준     1\n",
       "2               수출입銀 CJ대한통운 해외채권 발행 공동 보증     0\n",
       "3       브랜드 아파트 만원대에 마련할 마지막 기회 사천 KCC스위첸     1\n",
       "4        윤종규 KB금융지주 회장 금융그룹 최초로 탈석탄 금융 선언     1\n",
       "...                                   ...   ...\n",
       "468379        공매도 조원 매물 쏟아져삼성전자 공매도 이틀째 위     0\n",
       "468380            CJ제일제당 글로벌 수준 경영 인프라 구축     0\n",
       "468381                  하이트진로 세 박태영 사장 승진     1\n",
       "468382          특징주 형제의 난 재점화 가능성에롯데지주 강세     0\n",
       "468383       KT주도 클라우드 원팀에 한컴 등 개 기업기관 합류     0\n",
       "\n",
       "[468384 rows x 2 columns]"
      ],
      "text/html": [
       "<div>\n",
       "<style scoped>\n",
       "    .dataframe tbody tr th:only-of-type {\n",
       "        vertical-align: middle;\n",
       "    }\n",
       "\n",
       "    .dataframe tbody tr th {\n",
       "        vertical-align: top;\n",
       "    }\n",
       "\n",
       "    .dataframe thead th {\n",
       "        text-align: right;\n",
       "    }\n",
       "</style>\n",
       "<table border=\"1\" class=\"dataframe\">\n",
       "  <thead>\n",
       "    <tr style=\"text-align: right;\">\n",
       "      <th></th>\n",
       "      <th>뉴스제목</th>\n",
       "      <th>주가변동</th>\n",
       "    </tr>\n",
       "  </thead>\n",
       "  <tbody>\n",
       "    <tr>\n",
       "      <th>0</th>\n",
       "      <td>LG생활건강 숨 로시크숨마 황제의 빛 에디션 선봬</td>\n",
       "      <td>1</td>\n",
       "    </tr>\n",
       "    <tr>\n",
       "      <th>1</th>\n",
       "      <td>IRSK이노베이션 내년 시설투자 올해보다 낮은 수준</td>\n",
       "      <td>1</td>\n",
       "    </tr>\n",
       "    <tr>\n",
       "      <th>2</th>\n",
       "      <td>수출입銀 CJ대한통운 해외채권 발행 공동 보증</td>\n",
       "      <td>0</td>\n",
       "    </tr>\n",
       "    <tr>\n",
       "      <th>3</th>\n",
       "      <td>브랜드 아파트 만원대에 마련할 마지막 기회 사천 KCC스위첸</td>\n",
       "      <td>1</td>\n",
       "    </tr>\n",
       "    <tr>\n",
       "      <th>4</th>\n",
       "      <td>윤종규 KB금융지주 회장 금융그룹 최초로 탈석탄 금융 선언</td>\n",
       "      <td>1</td>\n",
       "    </tr>\n",
       "    <tr>\n",
       "      <th>...</th>\n",
       "      <td>...</td>\n",
       "      <td>...</td>\n",
       "    </tr>\n",
       "    <tr>\n",
       "      <th>468379</th>\n",
       "      <td>공매도 조원 매물 쏟아져삼성전자 공매도 이틀째 위</td>\n",
       "      <td>0</td>\n",
       "    </tr>\n",
       "    <tr>\n",
       "      <th>468380</th>\n",
       "      <td>CJ제일제당 글로벌 수준 경영 인프라 구축</td>\n",
       "      <td>0</td>\n",
       "    </tr>\n",
       "    <tr>\n",
       "      <th>468381</th>\n",
       "      <td>하이트진로 세 박태영 사장 승진</td>\n",
       "      <td>1</td>\n",
       "    </tr>\n",
       "    <tr>\n",
       "      <th>468382</th>\n",
       "      <td>특징주 형제의 난 재점화 가능성에롯데지주 강세</td>\n",
       "      <td>0</td>\n",
       "    </tr>\n",
       "    <tr>\n",
       "      <th>468383</th>\n",
       "      <td>KT주도 클라우드 원팀에 한컴 등 개 기업기관 합류</td>\n",
       "      <td>0</td>\n",
       "    </tr>\n",
       "  </tbody>\n",
       "</table>\n",
       "<p>468384 rows × 2 columns</p>\n",
       "</div>"
      ]
     },
     "metadata": {},
     "execution_count": 4
    }
   ],
   "metadata": {}
  }
 ],
 "metadata": {
  "orig_nbformat": 4,
  "language_info": {
   "name": "python",
   "version": "3.9.6",
   "mimetype": "text/x-python",
   "codemirror_mode": {
    "name": "ipython",
    "version": 3
   },
   "pygments_lexer": "ipython3",
   "nbconvert_exporter": "python",
   "file_extension": ".py"
  },
  "kernelspec": {
   "name": "python3",
   "display_name": "Python 3.9.6 64-bit"
  },
  "interpreter": {
   "hash": "5bbcfba0af128e6b66c2bfbf999bccbbcb5a23b4768301f164b5fec2568e5d70"
  }
 },
 "nbformat": 4,
 "nbformat_minor": 2
}