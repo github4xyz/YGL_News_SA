{
 "cells": [
  {
   "cell_type": "code",
   "execution_count": 1,
   "source": [
    "# https://blog.naver.com/dalgoon02121/222051184805\r\n",
    "# https://youngwonhan-family.tistory.com/66   ---  konlpy, kkma, jpype issue"
   ],
   "outputs": [],
   "metadata": {}
  },
  {
   "cell_type": "code",
   "execution_count": 1,
   "source": [
    "import scipy as sp\r\n",
    "import pandas as pd\r\n",
    "import numpy as np\r\n",
    "import nltk\r\n",
    "import pickle\r\n",
    "import re\r\n",
    "\r\n",
    "import konlpy\r\n",
    "from konlpy.tag import Okt         ; t = Okt()     # 구 트위터\r\n",
    "\r\n",
    "from sklearn.feature_extraction.text import TfidfVectorizer \r\n",
    "from sklearn.pipeline import Pipeline \r\n",
    "from sklearn.metrics import accuracy_score\r\n",
    "from sklearn.model_selection import train_test_split\r\n",
    "from sklearn.linear_model import LogisticRegression\r\n",
    "\r\n",
    "import warnings\r\n",
    "warnings.filterwarnings('ignore')\r\n"
   ],
   "outputs": [],
   "metadata": {}
  },
  {
   "cell_type": "code",
   "execution_count": 56,
   "source": [
    "with open('./with_name/LDA_merged_final_full.pkl', 'rb') as f:\r\n",
    "    news_df = pickle.load(f)"
   ],
   "outputs": [],
   "metadata": {}
  },
  {
   "cell_type": "code",
   "execution_count": 57,
   "source": [
    "news_df['뉴스제목'] = news_df['뉴스제목'].str.replace('\\s+', ' ', regex=True)\r\n",
    "news_df['뉴스제목'] = news_df['뉴스제목'].map(lambda x: re.sub('[0-9,.!·,…*°>%@#&$<_?.:\\“\\/\\”\\’\\'\\\"\\^\\\\‘\\|\\`\\(\\)\\[\\]\\{\\}]', '', x))\r\n",
    "news_df['뉴스제목'] = news_df['뉴스제목'].map(lambda x: re.sub('\\u200c', '', x))\r\n",
    "news_df['뉴스제목'] = news_df['뉴스제목'].map(lambda x: re.sub('[-–ㆍ]', ' ', x))\r\n",
    "\r\n",
    "stop_words = ['\\u200c','\\n ','\\n',\"'\",'…',',','[',']','(',')','\"','주','에','·','장','-','적',\\\r\n",
    "              '도','‘','`','가','’','의','이','★','은','“','대','”','한','B','로',\\\r\n",
    "              '?','선','A','는','!','\"…','상','들','제','…\"','일','서','명',\"'…\",'기',\\\r\n",
    "              '···','소','등','자','전','률','미','...','세','시','안','폭',\"…'\",'만','억',\\\r\n",
    "              '눈','더','량','고','인','성','다','감','을','지','수','것','째',\\\r\n",
    "              '기','···','중','계','왜','총','내','과','젠','또','연','엔','차','할',\\\r\n",
    "              '새','사','때','..','임','속','’…','G','나','개','원',\\\r\n",
    "             '달','→','권','?…','간','배','K','저','와','하','/','조','두','분','형',\\\r\n",
    "             '황','공','&','보','문','익','X','억원',']\"','치','산','를','오','해','S','그','된','준','▶',\\\r\n",
    "             '건','재','반','라','년','초','분','월','신','p','급','줄','경','구','진','올','발','vs','강',\\\r\n",
    "             '국','난','판','면','\"(','`…','살','아','번','텍','팜','Q','메','점','월',\\\r\n",
    "             'D','비','됐다','채',\"]'\",'보니','손','확','종','동','팔','타','~','땐','말','요',\\\r\n",
    "             \"',\",'스','…`','단','길','회','호','용','듯','최']\r\n",
    "\r\n",
    "news_df['뉴스제목'] = [each_word for each_word in news_df['뉴스제목'] if each_word not in stop_words]"
   ],
   "outputs": [],
   "metadata": {}
  },
  {
   "cell_type": "code",
   "execution_count": 14,
   "source": [
    "\r\n",
    "without_dif = news_df['주가변동'].value_counts()[0] - news_df['주가변동'].value_counts()[1]\r\n",
    "pd_without = news_df.drop(news_df[news_df['주가변동'] == 0].sample(n=without_dif).index)\r\n",
    "print('Number of Price up: {}'.format(news_df['주가변동'].value_counts()[1]))\r\n",
    "print('Number of Price down: {}'.format(news_df['주가변동'].value_counts()[0]))"
   ],
   "outputs": [
    {
     "output_type": "stream",
     "name": "stdout",
     "text": [
      "Number of Price up: 285481\n",
      "Number of Price down: 325992\n"
     ]
    }
   ],
   "metadata": {}
  },
  {
   "cell_type": "code",
   "execution_count": 58,
   "source": [
    "news_df"
   ],
   "outputs": [
    {
     "output_type": "execute_result",
     "data": {
      "text/plain": [
       "                                     뉴스제목  가장 비중이 높은 토픽  가장 높은 토픽의 비중  주가변동\n",
       "0             LG생활건강 숨 로시크숨마 황제의 빛 에디션 선봬             1        0.9640     1\n",
       "1            IRSK이노베이션 내년 시설투자 올해보다 낮은 수준             0        0.9440     1\n",
       "2               수출입銀 CJ대한통운 해외채권 발행 공동 보증             0        0.6790     0\n",
       "3       브랜드 아파트 만원대에 마련할 마지막 기회 사천 KCC스위첸             0        0.9012     1\n",
       "4                 LG전자 뉴욕 한복판에서 영화 상영한 사연             1        0.9518     0\n",
       "...                                   ...           ...           ...   ...\n",
       "611468    한국항공우주 인니에 억원 규모 KT B 훈련기 공급 계약             0        0.8536     1\n",
       "611469                  하이트진로 세 박태영 사장 승진             0        0.7068     1\n",
       "611470          특징주 형제의 난 재점화 가능성에롯데지주 강세             1        0.8101     0\n",
       "611471        제일기획 비상교육과 청소년 대상 마음 교과서 개발             0        0.7944     1\n",
       "611472       KT주도 클라우드 원팀에 한컴 등 개 기업기관 합류             0        0.5888     0\n",
       "\n",
       "[611473 rows x 4 columns]"
      ],
      "text/html": [
       "<div>\n",
       "<style scoped>\n",
       "    .dataframe tbody tr th:only-of-type {\n",
       "        vertical-align: middle;\n",
       "    }\n",
       "\n",
       "    .dataframe tbody tr th {\n",
       "        vertical-align: top;\n",
       "    }\n",
       "\n",
       "    .dataframe thead th {\n",
       "        text-align: right;\n",
       "    }\n",
       "</style>\n",
       "<table border=\"1\" class=\"dataframe\">\n",
       "  <thead>\n",
       "    <tr style=\"text-align: right;\">\n",
       "      <th></th>\n",
       "      <th>뉴스제목</th>\n",
       "      <th>가장 비중이 높은 토픽</th>\n",
       "      <th>가장 높은 토픽의 비중</th>\n",
       "      <th>주가변동</th>\n",
       "    </tr>\n",
       "  </thead>\n",
       "  <tbody>\n",
       "    <tr>\n",
       "      <th>0</th>\n",
       "      <td>LG생활건강 숨 로시크숨마 황제의 빛 에디션 선봬</td>\n",
       "      <td>1</td>\n",
       "      <td>0.9640</td>\n",
       "      <td>1</td>\n",
       "    </tr>\n",
       "    <tr>\n",
       "      <th>1</th>\n",
       "      <td>IRSK이노베이션 내년 시설투자 올해보다 낮은 수준</td>\n",
       "      <td>0</td>\n",
       "      <td>0.9440</td>\n",
       "      <td>1</td>\n",
       "    </tr>\n",
       "    <tr>\n",
       "      <th>2</th>\n",
       "      <td>수출입銀 CJ대한통운 해외채권 발행 공동 보증</td>\n",
       "      <td>0</td>\n",
       "      <td>0.6790</td>\n",
       "      <td>0</td>\n",
       "    </tr>\n",
       "    <tr>\n",
       "      <th>3</th>\n",
       "      <td>브랜드 아파트 만원대에 마련할 마지막 기회 사천 KCC스위첸</td>\n",
       "      <td>0</td>\n",
       "      <td>0.9012</td>\n",
       "      <td>1</td>\n",
       "    </tr>\n",
       "    <tr>\n",
       "      <th>4</th>\n",
       "      <td>LG전자 뉴욕 한복판에서 영화 상영한 사연</td>\n",
       "      <td>1</td>\n",
       "      <td>0.9518</td>\n",
       "      <td>0</td>\n",
       "    </tr>\n",
       "    <tr>\n",
       "      <th>...</th>\n",
       "      <td>...</td>\n",
       "      <td>...</td>\n",
       "      <td>...</td>\n",
       "      <td>...</td>\n",
       "    </tr>\n",
       "    <tr>\n",
       "      <th>611468</th>\n",
       "      <td>한국항공우주 인니에 억원 규모 KT B 훈련기 공급 계약</td>\n",
       "      <td>0</td>\n",
       "      <td>0.8536</td>\n",
       "      <td>1</td>\n",
       "    </tr>\n",
       "    <tr>\n",
       "      <th>611469</th>\n",
       "      <td>하이트진로 세 박태영 사장 승진</td>\n",
       "      <td>0</td>\n",
       "      <td>0.7068</td>\n",
       "      <td>1</td>\n",
       "    </tr>\n",
       "    <tr>\n",
       "      <th>611470</th>\n",
       "      <td>특징주 형제의 난 재점화 가능성에롯데지주 강세</td>\n",
       "      <td>1</td>\n",
       "      <td>0.8101</td>\n",
       "      <td>0</td>\n",
       "    </tr>\n",
       "    <tr>\n",
       "      <th>611471</th>\n",
       "      <td>제일기획 비상교육과 청소년 대상 마음 교과서 개발</td>\n",
       "      <td>0</td>\n",
       "      <td>0.7944</td>\n",
       "      <td>1</td>\n",
       "    </tr>\n",
       "    <tr>\n",
       "      <th>611472</th>\n",
       "      <td>KT주도 클라우드 원팀에 한컴 등 개 기업기관 합류</td>\n",
       "      <td>0</td>\n",
       "      <td>0.5888</td>\n",
       "      <td>0</td>\n",
       "    </tr>\n",
       "  </tbody>\n",
       "</table>\n",
       "<p>611473 rows × 4 columns</p>\n",
       "</div>"
      ]
     },
     "metadata": {},
     "execution_count": 58
    }
   ],
   "metadata": {}
  },
  {
   "cell_type": "code",
   "execution_count": 19,
   "source": [
    "news_df['okt'] = news_df.apply(lambda row: t.morphs(row['뉴스제목']), axis=1)"
   ],
   "outputs": [],
   "metadata": {}
  },
  {
   "cell_type": "code",
   "execution_count": 59,
   "source": [
    "train_df = news_df.sample(frac = 0.8)\r\n",
    "test_df = news_df.drop(train_df.index)"
   ],
   "outputs": [],
   "metadata": {}
  },
  {
   "cell_type": "code",
   "execution_count": 60,
   "source": [
    "title_train = train_df['뉴스제목'].copy()\r\n",
    "price_train = train_df['주가변동'].copy()\r\n",
    "title_test = test_df['뉴스제목'].copy()\r\n",
    "price_test = test_df['주가변동'].copy()\r\n",
    "# 데이터의 80%는 학습셋, 20%는 테스트셋\r\n",
    "# title_train, title_test, price_train, price_test = train_test_split(title_df, price_df, test_size=0.2, random_state=0)\r\n"
   ],
   "outputs": [],
   "metadata": {}
  },
  {
   "cell_type": "code",
   "execution_count": 63,
   "source": [
    "title_train"
   ],
   "outputs": [
    {
     "output_type": "execute_result",
     "data": {
      "text/plain": [
       "392262         위메프 원더투어 대한항공 할인 이벤트 진행\n",
       "265632          하이트진로 영리기업 첫 엔젤투자자로 선정\n",
       "515134       올해 최고의 게임은 게임대상 온라인 투표 시작\n",
       "18807     작지만 더 탱글한 오리온젤리 더 탱글 마이구미 출시\n",
       "223036         SK텔레콤 대구국제공항 로밍부스 단독 오픈\n",
       "Name: 뉴스제목, dtype: object"
      ]
     },
     "metadata": {},
     "execution_count": 63
    }
   ],
   "metadata": {}
  },
  {
   "cell_type": "code",
   "execution_count": 69,
   "source": [
    "tfidf = TfidfVectorizer()\r\n",
    "news_title = tfidf.fit_transform(news_df['뉴스제목'])\r\n"
   ],
   "outputs": [],
   "metadata": {}
  },
  {
   "cell_type": "code",
   "execution_count": 70,
   "source": [
    "title_train, title_test, price_train, price_test = train_test_split(news_title, news_df['주가변동'], test_size=0.2, random_state=0)"
   ],
   "outputs": [],
   "metadata": {}
  },
  {
   "cell_type": "code",
   "execution_count": 71,
   "source": [
    "title_train.shape, title_test.shape"
   ],
   "outputs": [
    {
     "output_type": "execute_result",
     "data": {
      "text/plain": [
       "((489178, 317128), (122295, 317128))"
      ]
     },
     "metadata": {},
     "execution_count": 71
    }
   ],
   "metadata": {}
  },
  {
   "cell_type": "code",
   "execution_count": 72,
   "source": [
    "logistic = LogisticRegression(C=5e1, solver='lbfgs', multi_class='multinomial', random_state=17, n_jobs=4) \r\n",
    "logistic.fit(title_train, price_train)"
   ],
   "outputs": [
    {
     "output_type": "execute_result",
     "data": {
      "text/plain": [
       "LogisticRegression(C=50.0, multi_class='multinomial', n_jobs=4, random_state=17)"
      ]
     },
     "metadata": {},
     "execution_count": 72
    }
   ],
   "metadata": {}
  },
  {
   "cell_type": "code",
   "execution_count": 73,
   "source": [
    "y_pred = logistic.predict(title_test)\r\n",
    "print(accuracy_score(price_test, y_pred))"
   ],
   "outputs": [
    {
     "output_type": "stream",
     "name": "stdout",
     "text": [
      "0.6143832536080788\n"
     ]
    }
   ],
   "metadata": {}
  },
  {
   "cell_type": "code",
   "execution_count": 74,
   "source": [
    "with open('./saved_models/LogiReg/basic01.dat', 'wb') as fp:     # 쓰기, 바탕화면에 저장됨\r\n",
    "    pickle.dump(logistic, fp)\r\n",
    "print('저장완료')     # 학습된 모델 저장 완료\r\n"
   ],
   "outputs": [
    {
     "output_type": "stream",
     "name": "stdout",
     "text": [
      "저장완료\n"
     ]
    }
   ],
   "metadata": {}
  },
  {
   "cell_type": "code",
   "execution_count": 6,
   "source": [
    "# 형태소 분석을 위한 함수\r\n",
    "# def tokenizer(text):\r\n",
    "#     okt = Okt()\r\n",
    "#     token_okt = okt.morphs(text)\r\n",
    "#     token_okt = [each_word for each_word in token_okt if each_word not in stop_words]\r\n",
    "#     return token_okt\r\n",
    "\r\n",
    "# def data_preprocessing():\r\n",
    "#     # 수집한 데이터 읽어오기\r\n",
    "#     # news_df = pd.read_excel()\r\n",
    "#     # 학습셋, 테스트셋 분리\r\n",
    "#     title_list = pd_without['뉴스제목'].tolist()\r\n",
    "#     price_list = pd_without['주가변동'].tolist()\r\n",
    "#     # 데이터의 80%는 학습셋, 20%는 테스트셋\r\n",
    "#     title_train, title_test, price_train, price_test = train_test_split(title_list, price_list, test_size=0.2, random_state=0)\r\n",
    "#     return title_train, title_test, price_train, price_test\r\n",
    "\r\n",
    "def learning(x_train, y_train, x_test, y_test):\r\n",
    "    # 전처리가 끝난 데이터를 단어 사전으로 만들고\r\n",
    "    # 리뷰별로 나오는 단어를 파악해서 수치화 (벡터화)해서 학습\r\n",
    "    # tfidf, 로지스틱 회귀 이용\r\n",
    "    tfidf = TfidfVectorizer(lowercase=False, tokenizer=tokenizer)\r\n",
    "    # 로지스틱\r\n",
    "    logistic = LogisticRegression(C=2, penalty='l2', random_state=0, verbose=1)     # C의 숫자가 너무 크면 과적합 (기본 1), penalty로 과적합 방지\r\n",
    "    pipe = Pipeline([('vect',tfidf),('clf',logistic)])\r\n",
    "    # 학습\r\n",
    "    pipe.fit(x_train, y_train)\r\n",
    "    # 학습 정확도 측정\r\n",
    "    y_pred = pipe.predict(x_test)\r\n",
    "    print(accuracy_score(y_test, y_pred))\r\n",
    "    # 학습한 모델을 저장\r\n",
    "    with open('./saved_models/LogiReg/with_pipe.dat', 'wb') as fp:     # 쓰기, 바탕화면에 저장됨\r\n",
    "        pickle.dump(pipe, fp)\r\n",
    "    print('저장완료')     # 학습된 모델 저장 완료\r\n"
   ],
   "outputs": [],
   "metadata": {}
  },
  {
   "cell_type": "code",
   "execution_count": 7,
   "source": [
    "# 학습 함수\r\n",
    "def model_learning():   # 감성분석 모델 생성\r\n",
    "    title_train, title_test, price_train, price_test = data_preprocessing()\r\n",
    "    learning(title_train, price_train, title_test, price_test)\r\n",
    "    \r\n",
    "# 사용 함수\r\n",
    "def model_using():   # 감성분석 모델 사용\r\n",
    "    using()\r\n",
    "\r\n",
    "model_learning()\r\n",
    "\r\n"
   ],
   "outputs": [
    {
     "output_type": "stream",
     "name": "stderr",
     "text": [
      "[Parallel(n_jobs=1)]: Using backend SequentialBackend with 1 concurrent workers.\n",
      "[Parallel(n_jobs=1)]: Done   1 out of   1 | elapsed:    3.4s finished\n"
     ]
    },
    {
     "output_type": "stream",
     "name": "stdout",
     "text": [
      "0.9660375840006439\n",
      "저장완료\n"
     ]
    }
   ],
   "metadata": {}
  },
  {
   "cell_type": "code",
   "execution_count": 86,
   "source": [
    "\r\n",
    "# 객체를 복원, 저장된 모델 불러오기\r\n",
    "with open('./saved_models/LogiReg/basic01.dat','rb') as fp:     # 읽기\r\n",
    "    logistic = pickle.load(fp)\r\n",
    "# while True :\r\n",
    "text = input('뉴스 타이틀을 입력해주세요 : ')\r\n",
    "str = [[text]]\r\n",
    "\r\n",
    "# 예측 정확도\r\n",
    "r1 = np.max(logistic.predict_proba(str)*100)     # 확률값을 구해서 *100\r\n",
    "# 예측 결과\r\n",
    "r2 = logistic.predict(str)[0]     # 긍정('1'), 부정('0')\r\n",
    "if r2 == '1':\r\n",
    "    print('코스피지수는 상승할 것으로 예상됩니다.')\r\n",
    "else: \r\n",
    "    print('코스피지수는 하락할 것으로 예상됩니다.')\r\n",
    "print('정확도 : %.3f' % r1)\r\n",
    "print('------------------------------------------------')"
   ],
   "outputs": [
    {
     "output_type": "error",
     "ename": "ValueError",
     "evalue": "Unable to convert array of bytes/strings into decimal numbers with dtype='numeric'",
     "traceback": [
      "\u001b[1;31m---------------------------------------------------------------------------\u001b[0m",
      "\u001b[1;31mValueError\u001b[0m                                Traceback (most recent call last)",
      "\u001b[1;32mC:\\MG\\Python39\\lib\\site-packages\\sklearn\\utils\\validation.py\u001b[0m in \u001b[0;36mcheck_array\u001b[1;34m(array, accept_sparse, accept_large_sparse, dtype, order, copy, force_all_finite, ensure_2d, allow_nd, ensure_min_samples, ensure_min_features, estimator)\u001b[0m\n\u001b[0;32m    709\u001b[0m             \u001b[1;32mtry\u001b[0m\u001b[1;33m:\u001b[0m\u001b[1;33m\u001b[0m\u001b[1;33m\u001b[0m\u001b[0m\n\u001b[1;32m--> 710\u001b[1;33m                 \u001b[0marray\u001b[0m \u001b[1;33m=\u001b[0m \u001b[0marray\u001b[0m\u001b[1;33m.\u001b[0m\u001b[0mastype\u001b[0m\u001b[1;33m(\u001b[0m\u001b[0mnp\u001b[0m\u001b[1;33m.\u001b[0m\u001b[0mfloat64\u001b[0m\u001b[1;33m)\u001b[0m\u001b[1;33m\u001b[0m\u001b[1;33m\u001b[0m\u001b[0m\n\u001b[0m\u001b[0;32m    711\u001b[0m             \u001b[1;32mexcept\u001b[0m \u001b[0mValueError\u001b[0m \u001b[1;32mas\u001b[0m \u001b[0me\u001b[0m\u001b[1;33m:\u001b[0m\u001b[1;33m\u001b[0m\u001b[1;33m\u001b[0m\u001b[0m\n",
      "\u001b[1;31mValueError\u001b[0m: could not convert string to float: 'TfidfVectorizer'",
      "\nThe above exception was the direct cause of the following exception:\n",
      "\u001b[1;31mValueError\u001b[0m                                Traceback (most recent call last)",
      "\u001b[1;32m~\\AppData\\Local\\Temp/ipykernel_28392/1724336366.py\u001b[0m in \u001b[0;36m<module>\u001b[1;34m\u001b[0m\n\u001b[0;32m      7\u001b[0m \u001b[1;33m\u001b[0m\u001b[0m\n\u001b[0;32m      8\u001b[0m \u001b[1;31m# 예측 정확도\u001b[0m\u001b[1;33m\u001b[0m\u001b[1;33m\u001b[0m\u001b[1;33m\u001b[0m\u001b[0m\n\u001b[1;32m----> 9\u001b[1;33m \u001b[0mr1\u001b[0m \u001b[1;33m=\u001b[0m \u001b[0mnp\u001b[0m\u001b[1;33m.\u001b[0m\u001b[0mmax\u001b[0m\u001b[1;33m(\u001b[0m\u001b[0mlogistic\u001b[0m\u001b[1;33m.\u001b[0m\u001b[0mpredict_proba\u001b[0m\u001b[1;33m(\u001b[0m\u001b[0mstr\u001b[0m\u001b[1;33m)\u001b[0m\u001b[1;33m*\u001b[0m\u001b[1;36m100\u001b[0m\u001b[1;33m)\u001b[0m     \u001b[1;31m# 확률값을 구해서 *100\u001b[0m\u001b[1;33m\u001b[0m\u001b[1;33m\u001b[0m\u001b[0m\n\u001b[0m\u001b[0;32m     10\u001b[0m \u001b[1;31m# 예측 결과\u001b[0m\u001b[1;33m\u001b[0m\u001b[1;33m\u001b[0m\u001b[1;33m\u001b[0m\u001b[0m\n\u001b[0;32m     11\u001b[0m \u001b[0mr2\u001b[0m \u001b[1;33m=\u001b[0m \u001b[0mlogistic\u001b[0m\u001b[1;33m.\u001b[0m\u001b[0mpredict\u001b[0m\u001b[1;33m(\u001b[0m\u001b[0mstr\u001b[0m\u001b[1;33m)\u001b[0m\u001b[1;33m[\u001b[0m\u001b[1;36m0\u001b[0m\u001b[1;33m]\u001b[0m     \u001b[1;31m# 긍정('1'), 부정('0')\u001b[0m\u001b[1;33m\u001b[0m\u001b[1;33m\u001b[0m\u001b[0m\n",
      "\u001b[1;32mC:\\MG\\Python39\\lib\\site-packages\\sklearn\\linear_model\\_logistic.py\u001b[0m in \u001b[0;36mpredict_proba\u001b[1;34m(self, X)\u001b[0m\n\u001b[0;32m   1469\u001b[0m             \u001b[1;32mreturn\u001b[0m \u001b[0msuper\u001b[0m\u001b[1;33m(\u001b[0m\u001b[1;33m)\u001b[0m\u001b[1;33m.\u001b[0m\u001b[0m_predict_proba_lr\u001b[0m\u001b[1;33m(\u001b[0m\u001b[0mX\u001b[0m\u001b[1;33m)\u001b[0m\u001b[1;33m\u001b[0m\u001b[1;33m\u001b[0m\u001b[0m\n\u001b[0;32m   1470\u001b[0m         \u001b[1;32melse\u001b[0m\u001b[1;33m:\u001b[0m\u001b[1;33m\u001b[0m\u001b[1;33m\u001b[0m\u001b[0m\n\u001b[1;32m-> 1471\u001b[1;33m             \u001b[0mdecision\u001b[0m \u001b[1;33m=\u001b[0m \u001b[0mself\u001b[0m\u001b[1;33m.\u001b[0m\u001b[0mdecision_function\u001b[0m\u001b[1;33m(\u001b[0m\u001b[0mX\u001b[0m\u001b[1;33m)\u001b[0m\u001b[1;33m\u001b[0m\u001b[1;33m\u001b[0m\u001b[0m\n\u001b[0m\u001b[0;32m   1472\u001b[0m             \u001b[1;32mif\u001b[0m \u001b[0mdecision\u001b[0m\u001b[1;33m.\u001b[0m\u001b[0mndim\u001b[0m \u001b[1;33m==\u001b[0m \u001b[1;36m1\u001b[0m\u001b[1;33m:\u001b[0m\u001b[1;33m\u001b[0m\u001b[1;33m\u001b[0m\u001b[0m\n\u001b[0;32m   1473\u001b[0m                 \u001b[1;31m# Workaround for multi_class=\"multinomial\" and binary outcomes\u001b[0m\u001b[1;33m\u001b[0m\u001b[1;33m\u001b[0m\u001b[1;33m\u001b[0m\u001b[0m\n",
      "\u001b[1;32mC:\\MG\\Python39\\lib\\site-packages\\sklearn\\linear_model\\_base.py\u001b[0m in \u001b[0;36mdecision_function\u001b[1;34m(self, X)\u001b[0m\n\u001b[0;32m    282\u001b[0m         \u001b[0mcheck_is_fitted\u001b[0m\u001b[1;33m(\u001b[0m\u001b[0mself\u001b[0m\u001b[1;33m)\u001b[0m\u001b[1;33m\u001b[0m\u001b[1;33m\u001b[0m\u001b[0m\n\u001b[0;32m    283\u001b[0m \u001b[1;33m\u001b[0m\u001b[0m\n\u001b[1;32m--> 284\u001b[1;33m         \u001b[0mX\u001b[0m \u001b[1;33m=\u001b[0m \u001b[0mcheck_array\u001b[0m\u001b[1;33m(\u001b[0m\u001b[0mX\u001b[0m\u001b[1;33m,\u001b[0m \u001b[0maccept_sparse\u001b[0m\u001b[1;33m=\u001b[0m\u001b[1;34m'csr'\u001b[0m\u001b[1;33m)\u001b[0m\u001b[1;33m\u001b[0m\u001b[1;33m\u001b[0m\u001b[0m\n\u001b[0m\u001b[0;32m    285\u001b[0m \u001b[1;33m\u001b[0m\u001b[0m\n\u001b[0;32m    286\u001b[0m         \u001b[0mn_features\u001b[0m \u001b[1;33m=\u001b[0m \u001b[0mself\u001b[0m\u001b[1;33m.\u001b[0m\u001b[0mcoef_\u001b[0m\u001b[1;33m.\u001b[0m\u001b[0mshape\u001b[0m\u001b[1;33m[\u001b[0m\u001b[1;36m1\u001b[0m\u001b[1;33m]\u001b[0m\u001b[1;33m\u001b[0m\u001b[1;33m\u001b[0m\u001b[0m\n",
      "\u001b[1;32mC:\\MG\\Python39\\lib\\site-packages\\sklearn\\utils\\validation.py\u001b[0m in \u001b[0;36minner_f\u001b[1;34m(*args, **kwargs)\u001b[0m\n\u001b[0;32m     61\u001b[0m             \u001b[0mextra_args\u001b[0m \u001b[1;33m=\u001b[0m \u001b[0mlen\u001b[0m\u001b[1;33m(\u001b[0m\u001b[0margs\u001b[0m\u001b[1;33m)\u001b[0m \u001b[1;33m-\u001b[0m \u001b[0mlen\u001b[0m\u001b[1;33m(\u001b[0m\u001b[0mall_args\u001b[0m\u001b[1;33m)\u001b[0m\u001b[1;33m\u001b[0m\u001b[1;33m\u001b[0m\u001b[0m\n\u001b[0;32m     62\u001b[0m             \u001b[1;32mif\u001b[0m \u001b[0mextra_args\u001b[0m \u001b[1;33m<=\u001b[0m \u001b[1;36m0\u001b[0m\u001b[1;33m:\u001b[0m\u001b[1;33m\u001b[0m\u001b[1;33m\u001b[0m\u001b[0m\n\u001b[1;32m---> 63\u001b[1;33m                 \u001b[1;32mreturn\u001b[0m \u001b[0mf\u001b[0m\u001b[1;33m(\u001b[0m\u001b[1;33m*\u001b[0m\u001b[0margs\u001b[0m\u001b[1;33m,\u001b[0m \u001b[1;33m**\u001b[0m\u001b[0mkwargs\u001b[0m\u001b[1;33m)\u001b[0m\u001b[1;33m\u001b[0m\u001b[1;33m\u001b[0m\u001b[0m\n\u001b[0m\u001b[0;32m     64\u001b[0m \u001b[1;33m\u001b[0m\u001b[0m\n\u001b[0;32m     65\u001b[0m             \u001b[1;31m# extra_args > 0\u001b[0m\u001b[1;33m\u001b[0m\u001b[1;33m\u001b[0m\u001b[1;33m\u001b[0m\u001b[0m\n",
      "\u001b[1;32mC:\\MG\\Python39\\lib\\site-packages\\sklearn\\utils\\validation.py\u001b[0m in \u001b[0;36mcheck_array\u001b[1;34m(array, accept_sparse, accept_large_sparse, dtype, order, copy, force_all_finite, ensure_2d, allow_nd, ensure_min_samples, ensure_min_features, estimator)\u001b[0m\n\u001b[0;32m    710\u001b[0m                 \u001b[0marray\u001b[0m \u001b[1;33m=\u001b[0m \u001b[0marray\u001b[0m\u001b[1;33m.\u001b[0m\u001b[0mastype\u001b[0m\u001b[1;33m(\u001b[0m\u001b[0mnp\u001b[0m\u001b[1;33m.\u001b[0m\u001b[0mfloat64\u001b[0m\u001b[1;33m)\u001b[0m\u001b[1;33m\u001b[0m\u001b[1;33m\u001b[0m\u001b[0m\n\u001b[0;32m    711\u001b[0m             \u001b[1;32mexcept\u001b[0m \u001b[0mValueError\u001b[0m \u001b[1;32mas\u001b[0m \u001b[0me\u001b[0m\u001b[1;33m:\u001b[0m\u001b[1;33m\u001b[0m\u001b[1;33m\u001b[0m\u001b[0m\n\u001b[1;32m--> 712\u001b[1;33m                 raise ValueError(\n\u001b[0m\u001b[0;32m    713\u001b[0m                     \u001b[1;34m\"Unable to convert array of bytes/strings \"\u001b[0m\u001b[1;33m\u001b[0m\u001b[1;33m\u001b[0m\u001b[0m\n\u001b[0;32m    714\u001b[0m                     \"into decimal numbers with dtype='numeric'\") from e\n",
      "\u001b[1;31mValueError\u001b[0m: Unable to convert array of bytes/strings into decimal numbers with dtype='numeric'"
     ]
    }
   ],
   "metadata": {}
  },
  {
   "cell_type": "code",
   "execution_count": null,
   "source": [
    "model_using()"
   ],
   "outputs": [],
   "metadata": {}
  }
 ],
 "metadata": {
  "orig_nbformat": 4,
  "language_info": {
   "name": "python",
   "version": "3.9.6",
   "mimetype": "text/x-python",
   "codemirror_mode": {
    "name": "ipython",
    "version": 3
   },
   "pygments_lexer": "ipython3",
   "nbconvert_exporter": "python",
   "file_extension": ".py"
  },
  "kernelspec": {
   "name": "python3",
   "display_name": "Python 3.9.6 64-bit"
  },
  "interpreter": {
   "hash": "4ac88cb2699ee9b7daeb032859f08abeba92b66e2448aba41b67b506f70d5f91"
  }
 },
 "nbformat": 4,
 "nbformat_minor": 2
}