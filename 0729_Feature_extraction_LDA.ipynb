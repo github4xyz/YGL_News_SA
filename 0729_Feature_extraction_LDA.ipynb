{
 "cells": [
  {
   "cell_type": "code",
   "execution_count": 4,
   "source": [
    "import numpy as np\r\n",
    "import pandas as pd\r\n",
    "import re\r\n",
    "import matplotlib.pyplot as plt\r\n",
    "from wordcloud import WordCloud\r\n",
    "\r\n",
    "from konlpy.tag import Okt         ; t = Okt()     # 구 트위터\r\n",
    "from konlpy.tag import *\r\n",
    "\r\n",
    "import nltk\r\n",
    "import pickle"
   ],
   "outputs": [],
   "metadata": {}
  },
  {
   "cell_type": "code",
   "execution_count": 5,
   "source": [
    "df_with = pd.read_csv('./with_name/all_headlines.tsv', sep=\"\\t\")"
   ],
   "outputs": [],
   "metadata": {}
  },
  {
   "cell_type": "code",
   "execution_count": 6,
   "source": [
    "df_with['뉴스제목'] = df_with['뉴스제목'].str.replace('\\s+', ' ', regex=True)\r\n",
    "df_with['뉴스제목'] = df_with['뉴스제목'].map(lambda x: re.sub('[0-9,.!·,…*>%@#&$<_?.:\\“\\/\\”\\’\\'\\\"\\^\\\\‘\\|\\`\\(\\)\\[\\]\\{\\}]', '', x))\r\n",
    "df_with['뉴스제목'] = df_with['뉴스제목'].map(lambda x: re.sub('\\u200c', '', x))\r\n",
    "df_with['뉴스제목'] = df_with['뉴스제목'].map(lambda x: re.sub('[-–ㆍ]', ' ', x))\r\n",
    "\r\n",
    "stop_words = ['\\u200c','\\n ','\\n',\"'\",'…',',','[',']','(',')','\"','주','에','·','장','-','적',\\\r\n",
    "              '도','‘','`','가','’','의','이','★','은','“','대','”','한','B','로',\\\r\n",
    "              '?','선','A','는','!','\"…','상','들','제','…\"','일','서','명',\"'…\",'기',\\\r\n",
    "              '···','소','등','자','전','률','미','...','세','시','안','폭',\"…'\",'만','억',\\\r\n",
    "              '눈','더','량','고','인','성','다','감','을','지','수','것','째',\\\r\n",
    "              '기','···','중','계','왜','총','내','과','젠','또','연','엔','차','할',\\\r\n",
    "              '새','사','때','..','임','속','’…','G','나','개','원',\\\r\n",
    "             '달','→','권','?…','간','배','K','저','와','하','/','조','두','분','형',\\\r\n",
    "             '황','공','&','보','문','익','X','억원',']\"','치','산','를','오','해','S','그','된','준','▶',\\\r\n",
    "             '건','재','반','라','년','초','분','월','신','p','급','줄','경','구','진','올','발','vs','강',\\\r\n",
    "             '국','난','판','면','\"(','`…','살','아','번','텍','팜','Q','메','점','월',\\\r\n",
    "             'D','비','됐다','채',\"]'\",'보니','손','확','종','동','팔','타','~','땐','말','요',\\\r\n",
    "             \"',\",'스','…`','단','길','회','호','용','듯','최']\r\n",
    "\r\n",
    "df_with['뉴스제목'] = [each_word for each_word in df_with['뉴스제목'] if each_word not in stop_words]"
   ],
   "outputs": [],
   "metadata": {}
  },
  {
   "cell_type": "code",
   "execution_count": 8,
   "source": [
    "df_with['okt'] = df_with.apply(lambda row: t.morphs(row['뉴스제목']), axis=1)\r\n",
    "df_with"
   ],
   "outputs": [
    {
     "output_type": "execute_result",
     "data": {
      "text/plain": [
       "                                     뉴스제목  주가변동  \\\n",
       "0            LG생활건강 숨° 로시크숨마 황제의 빛 에디션 선봬     1   \n",
       "1            IRSK이노베이션 내년 시설투자 올해보다 낮은 수준     1   \n",
       "2               수출입銀 CJ대한통운 해외채권 발행 공동 보증     0   \n",
       "3       브랜드 아파트 만원대에 마련할 마지막 기회 사천 KCC스위첸     1   \n",
       "4                 LG전자 뉴욕 한복판에서 영화 상영한 사연     0   \n",
       "...                                   ...   ...   \n",
       "611468    한국항공우주 인니에 억원 규모 KT B 훈련기 공급 계약     1   \n",
       "611469                  하이트진로 세 박태영 사장 승진     1   \n",
       "611470          특징주 형제의 난 재점화 가능성에롯데지주 강세     0   \n",
       "611471        제일기획 비상교육과 청소년 대상 마음 교과서 개발     1   \n",
       "611472       KT주도 클라우드 원팀에 한컴 등 개 기업기관 합류     0   \n",
       "\n",
       "                                                      okt  \n",
       "0       [LG, 생활, 건강, 숨, °, 로, 시크, 숨마, 황제, 의, 빛, 에디, 션,...  \n",
       "1               [IRSK, 이노베이션, 내년, 시설, 투자, 올해, 보다, 낮은, 수준]  \n",
       "2              [수출입, 銀, CJ, 대, 한, 통운, 해외, 채권, 발행, 공동, 보증]  \n",
       "3       [브랜드, 아파트, 만원, 대, 에, 마련, 할, 마지막, 기회, 사천, KCC, ...  \n",
       "4                  [LG, 전자, 뉴욕, 한, 복판, 에서, 영화, 상영, 한, 사연]  \n",
       "...                                                   ...  \n",
       "611468      [한국, 항공우주, 인니, 에, 억원, 규모, KT, B, 훈련기, 공급, 계약]  \n",
       "611469                            [하이트진로, 세, 박태영, 사장, 승진]  \n",
       "611470       [특징, 주, 형제, 의, 난, 재, 점화, 가능성, 에, 롯데, 지주, 강세]  \n",
       "611471              [제일기획, 비상교육, 과, 청소년, 대상, 마음, 교과서, 개발]  \n",
       "611472      [KT, 주도, 클라우드, 원, 팀, 에, 한컴, 등, 개, 기업, 기관, 합류]  \n",
       "\n",
       "[611473 rows x 3 columns]"
      ],
      "text/html": [
       "<div>\n",
       "<style scoped>\n",
       "    .dataframe tbody tr th:only-of-type {\n",
       "        vertical-align: middle;\n",
       "    }\n",
       "\n",
       "    .dataframe tbody tr th {\n",
       "        vertical-align: top;\n",
       "    }\n",
       "\n",
       "    .dataframe thead th {\n",
       "        text-align: right;\n",
       "    }\n",
       "</style>\n",
       "<table border=\"1\" class=\"dataframe\">\n",
       "  <thead>\n",
       "    <tr style=\"text-align: right;\">\n",
       "      <th></th>\n",
       "      <th>뉴스제목</th>\n",
       "      <th>주가변동</th>\n",
       "      <th>okt</th>\n",
       "    </tr>\n",
       "  </thead>\n",
       "  <tbody>\n",
       "    <tr>\n",
       "      <th>0</th>\n",
       "      <td>LG생활건강 숨° 로시크숨마 황제의 빛 에디션 선봬</td>\n",
       "      <td>1</td>\n",
       "      <td>[LG, 생활, 건강, 숨, °, 로, 시크, 숨마, 황제, 의, 빛, 에디, 션,...</td>\n",
       "    </tr>\n",
       "    <tr>\n",
       "      <th>1</th>\n",
       "      <td>IRSK이노베이션 내년 시설투자 올해보다 낮은 수준</td>\n",
       "      <td>1</td>\n",
       "      <td>[IRSK, 이노베이션, 내년, 시설, 투자, 올해, 보다, 낮은, 수준]</td>\n",
       "    </tr>\n",
       "    <tr>\n",
       "      <th>2</th>\n",
       "      <td>수출입銀 CJ대한통운 해외채권 발행 공동 보증</td>\n",
       "      <td>0</td>\n",
       "      <td>[수출입, 銀, CJ, 대, 한, 통운, 해외, 채권, 발행, 공동, 보증]</td>\n",
       "    </tr>\n",
       "    <tr>\n",
       "      <th>3</th>\n",
       "      <td>브랜드 아파트 만원대에 마련할 마지막 기회 사천 KCC스위첸</td>\n",
       "      <td>1</td>\n",
       "      <td>[브랜드, 아파트, 만원, 대, 에, 마련, 할, 마지막, 기회, 사천, KCC, ...</td>\n",
       "    </tr>\n",
       "    <tr>\n",
       "      <th>4</th>\n",
       "      <td>LG전자 뉴욕 한복판에서 영화 상영한 사연</td>\n",
       "      <td>0</td>\n",
       "      <td>[LG, 전자, 뉴욕, 한, 복판, 에서, 영화, 상영, 한, 사연]</td>\n",
       "    </tr>\n",
       "    <tr>\n",
       "      <th>...</th>\n",
       "      <td>...</td>\n",
       "      <td>...</td>\n",
       "      <td>...</td>\n",
       "    </tr>\n",
       "    <tr>\n",
       "      <th>611468</th>\n",
       "      <td>한국항공우주 인니에 억원 규모 KT B 훈련기 공급 계약</td>\n",
       "      <td>1</td>\n",
       "      <td>[한국, 항공우주, 인니, 에, 억원, 규모, KT, B, 훈련기, 공급, 계약]</td>\n",
       "    </tr>\n",
       "    <tr>\n",
       "      <th>611469</th>\n",
       "      <td>하이트진로 세 박태영 사장 승진</td>\n",
       "      <td>1</td>\n",
       "      <td>[하이트진로, 세, 박태영, 사장, 승진]</td>\n",
       "    </tr>\n",
       "    <tr>\n",
       "      <th>611470</th>\n",
       "      <td>특징주 형제의 난 재점화 가능성에롯데지주 강세</td>\n",
       "      <td>0</td>\n",
       "      <td>[특징, 주, 형제, 의, 난, 재, 점화, 가능성, 에, 롯데, 지주, 강세]</td>\n",
       "    </tr>\n",
       "    <tr>\n",
       "      <th>611471</th>\n",
       "      <td>제일기획 비상교육과 청소년 대상 마음 교과서 개발</td>\n",
       "      <td>1</td>\n",
       "      <td>[제일기획, 비상교육, 과, 청소년, 대상, 마음, 교과서, 개발]</td>\n",
       "    </tr>\n",
       "    <tr>\n",
       "      <th>611472</th>\n",
       "      <td>KT주도 클라우드 원팀에 한컴 등 개 기업기관 합류</td>\n",
       "      <td>0</td>\n",
       "      <td>[KT, 주도, 클라우드, 원, 팀, 에, 한컴, 등, 개, 기업, 기관, 합류]</td>\n",
       "    </tr>\n",
       "  </tbody>\n",
       "</table>\n",
       "<p>611473 rows × 3 columns</p>\n",
       "</div>"
      ]
     },
     "metadata": {},
     "execution_count": 8
    }
   ],
   "metadata": {}
  },
  {
   "cell_type": "code",
   "execution_count": null,
   "source": [],
   "outputs": [],
   "metadata": {}
  },
  {
   "cell_type": "code",
   "execution_count": 11,
   "source": [
    "from gensim import corpora\r\n",
    "dictionary = corpora.Dictionary(df_with['okt'])\r\n",
    "corpus = [dictionary.doc2bow(text) for text in df_with['okt']]\r\n",
    "print(corpus[1]) # 수행된 결과에서 두번째 뉴스 출력. 첫번째 문서의 인덱스는 0"
   ],
   "outputs": [
    {
     "output_type": "stream",
     "name": "stdout",
     "text": [
      "[(14, 1), (15, 1), (16, 1), (17, 1), (18, 1), (19, 1), (20, 1), (21, 1), (22, 1)]\n"
     ]
    }
   ],
   "metadata": {}
  },
  {
   "cell_type": "code",
   "execution_count": 12,
   "source": [
    "print(dictionary[66])"
   ],
   "outputs": [
    {
     "output_type": "stream",
     "name": "stdout",
     "text": [
      "동반성\n"
     ]
    }
   ],
   "metadata": {}
  },
  {
   "cell_type": "code",
   "execution_count": 13,
   "source": [
    "len(dictionary)"
   ],
   "outputs": [
    {
     "output_type": "execute_result",
     "data": {
      "text/plain": [
       "59800"
      ]
     },
     "metadata": {},
     "execution_count": 13
    }
   ],
   "metadata": {}
  },
  {
   "cell_type": "code",
   "execution_count": 14,
   "source": [
    "import gensim\r\n",
    "NUM_TOPICS = 2 #20개의 토픽, k=20\r\n",
    "ldamodel = gensim.models.ldamodel.LdaModel(corpus, num_topics = NUM_TOPICS, id2word=dictionary, passes=15)\r\n",
    "topics = ldamodel.print_topics(num_words=4)\r\n",
    "for topic in topics:\r\n",
    "    print(topic)"
   ],
   "outputs": [],
   "metadata": {}
  },
  {
   "cell_type": "code",
   "execution_count": null,
   "source": [
    "print(ldamodel.print_topics())"
   ],
   "outputs": [],
   "metadata": {}
  },
  {
   "cell_type": "code",
   "execution_count": null,
   "source": [
    "import pyLDAvis.gensim\r\n",
    "pyLDAvis.enable_notebook()\r\n",
    "vis = pyLDAvis.gensim.prepare(ldamodel, corpus, dictionary)\r\n",
    "pyLDAvis.display(vis)"
   ],
   "outputs": [],
   "metadata": {}
  },
  {
   "cell_type": "code",
   "execution_count": null,
   "source": [
    "for i, topic_list in enumerate(ldamodel[corpus]):\r\n",
    "    if i==5:\r\n",
    "        break\r\n",
    "    print(i,'번째 문서의 topic 비율은',topic_list)"
   ],
   "outputs": [],
   "metadata": {}
  },
  {
   "cell_type": "code",
   "execution_count": null,
   "source": [
    "def make_topictable_per_doc(ldamodel, corpus):\r\n",
    "    topic_table = pd.DataFrame()\r\n",
    "\r\n",
    "    # 몇 번째 문서인지를 의미하는 문서 번호와 해당 문서의 토픽 비중을 한 줄씩 꺼내온다.\r\n",
    "    for i, topic_list in enumerate(ldamodel[corpus]):\r\n",
    "        doc = topic_list[0] if ldamodel.per_word_topics else topic_list            \r\n",
    "        doc = sorted(doc, key=lambda x: (x[1]), reverse=True)\r\n",
    "        # 각 문서에 대해서 비중이 높은 토픽순으로 토픽을 정렬한다.\r\n",
    "        # EX) 정렬 전 0번 문서 : (2번 토픽, 48.5%), (8번 토픽, 25%), (10번 토픽, 5%), (12번 토픽, 21.5%), \r\n",
    "        # Ex) 정렬 후 0번 문서 : (2번 토픽, 48.5%), (8번 토픽, 25%), (12번 토픽, 21.5%), (10번 토픽, 5%)\r\n",
    "        # 48 > 25 > 21 > 5 순으로 정렬이 된 것.\r\n",
    "\r\n",
    "        # 모든 문서에 대해서 각각 아래를 수행\r\n",
    "        for j, (topic_num, prop_topic) in enumerate(doc): #  몇 번 토픽인지와 비중을 나눠서 저장한다.\r\n",
    "            if j == 0:  # 정렬을 한 상태이므로 가장 앞에 있는 것이 가장 비중이 높은 토픽\r\n",
    "                topic_table = topic_table.append(pd.Series([int(topic_num), round(prop_topic,4), topic_list]), ignore_index=True)\r\n",
    "                # 가장 비중이 높은 토픽과, 가장 비중이 높은 토픽의 비중과, 전체 토픽의 비중을 저장한다.\r\n",
    "            else:\r\n",
    "                break\r\n",
    "    return(topic_table)"
   ],
   "outputs": [],
   "metadata": {}
  },
  {
   "cell_type": "code",
   "execution_count": null,
   "source": [
    "topictable = make_topictable_per_doc(ldamodel, corpus)\r\n",
    "topictable = topictable.reset_index() # 문서 번호을 의미하는 열(column)로 사용하기 위해서 인덱스 열을 하나 더 만든다.\r\n",
    "topictable.columns = ['문서 번호', '가장 비중이 높은 토픽', '가장 높은 토픽의 비중', '각 토픽의 비중']\r\n",
    "topictable[:10]"
   ],
   "outputs": [],
   "metadata": {}
  }
 ],
 "metadata": {
  "orig_nbformat": 4,
  "language_info": {
   "name": "python",
   "version": "3.9.6",
   "mimetype": "text/x-python",
   "codemirror_mode": {
    "name": "ipython",
    "version": 3
   },
   "pygments_lexer": "ipython3",
   "nbconvert_exporter": "python",
   "file_extension": ".py"
  },
  "kernelspec": {
   "name": "python3",
   "display_name": "Python 3.9.6 64-bit"
  },
  "interpreter": {
   "hash": "5bbcfba0af128e6b66c2bfbf999bccbbcb5a23b4768301f164b5fec2568e5d70"
  }
 },
 "nbformat": 4,
 "nbformat_minor": 2
}