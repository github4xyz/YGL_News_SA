{
 "cells": [
  {
   "cell_type": "code",
   "execution_count": 1,
   "source": [
    "# https://blog.naver.com/dalgoon02121/222051184805\r\n",
    "# https://youngwonhan-family.tistory.com/66   ---  konlpy, kkma, jpype issue"
   ],
   "outputs": [],
   "metadata": {}
  },
  {
   "cell_type": "code",
   "execution_count": 1,
   "source": [
    "import scipy as sp\r\n",
    "import pandas as pd\r\n",
    "import numpy as np\r\n",
    "import konlpy\r\n",
    "konlpy.jvm.init_jvm(jvmpath=None, max_heap_size=10240)\r\n",
    "\r\n",
    "from konlpy.tag import Kkma        ; kkma = Kkma()\r\n",
    "from konlpy.tag import Hannanum    ; hannanum = Hannanum()\r\n",
    "from konlpy.tag import Okt         ; t = Okt()     # 구 트위터\r\n",
    "from konlpy.tag import *\r\n",
    "\r\n",
    "import nltk\r\n",
    "import pickle\r\n",
    "\r\n",
    "from wordcloud import WordCloud, STOPWORDS\r\n",
    "from PIL import Image\r\n",
    "\r\n",
    "from sklearn.feature_extraction.text import CountVectorizer\r\n",
    "from sklearn.feature_extraction.text import TfidfVectorizer \r\n",
    "from sklearn.linear_model import LogisticRegression\r\n",
    "from sklearn.pipeline import Pipeline \r\n",
    "from sklearn.metrics import accuracy_score\r\n",
    "from sklearn.model_selection import train_test_split\r\n",
    "\r\n",
    "\r\n",
    "import os\r\n",
    "import matplotlib.pyplot as plt\r\n",
    "import seaborn as sns\r\n",
    "import graphviz\r\n",
    "from sklearn.tree import export_graphviz\r\n",
    "\r\n",
    "import matplotlib.font_manager as fm\r\n",
    "plt.rc('font', family='NanumGothic')\r\n",
    "\r\n",
    "import matplotlib as mpl\r\n",
    "mpl.rcParams['axes.unicode_minus'] = False\r\n",
    "\r\n",
    "import warnings\r\n",
    "warnings.filterwarnings('ignore')\r\n"
   ],
   "outputs": [],
   "metadata": {}
  },
  {
   "cell_type": "code",
   "execution_count": 14,
   "source": [
    "news_df = pd.read_csv('./without_name/EDA_headlines.tsv', sep=\"\\t\")"
   ],
   "outputs": [],
   "metadata": {}
  },
  {
   "cell_type": "code",
   "execution_count": 13,
   "source": [
    "news_df = pd.read_csv('./without_name/EDA_headlines.tsv', sep=\"\\t\")\r\n",
    "title_list = news_df.뉴스제목.values.tolist()\r\n",
    "title_text = ''\r\n",
    "for each_line in title_list:\r\n",
    "    title_text = title_text + each_line + '\\n'\r\n",
    "\r\n"
   ],
   "outputs": [
    {
     "output_type": "error",
     "ename": "KeyboardInterrupt",
     "evalue": "",
     "traceback": [
      "\u001b[1;31m---------------------------------------------------------------------------\u001b[0m",
      "\u001b[1;31mKeyboardInterrupt\u001b[0m                         Traceback (most recent call last)",
      "\u001b[1;32m~\\AppData\\Local\\Temp/ipykernel_13672/3052743358.py\u001b[0m in \u001b[0;36m<module>\u001b[1;34m\u001b[0m\n\u001b[0;32m      3\u001b[0m \u001b[0mtitle_text\u001b[0m \u001b[1;33m=\u001b[0m \u001b[1;34m''\u001b[0m\u001b[1;33m\u001b[0m\u001b[1;33m\u001b[0m\u001b[0m\n\u001b[0;32m      4\u001b[0m \u001b[1;32mfor\u001b[0m \u001b[0meach_line\u001b[0m \u001b[1;32min\u001b[0m \u001b[0mtitle_list\u001b[0m\u001b[1;33m:\u001b[0m\u001b[1;33m\u001b[0m\u001b[1;33m\u001b[0m\u001b[0m\n\u001b[1;32m----> 5\u001b[1;33m     \u001b[0mtitle_text\u001b[0m \u001b[1;33m=\u001b[0m \u001b[0mtitle_text\u001b[0m \u001b[1;33m+\u001b[0m \u001b[0meach_line\u001b[0m \u001b[1;33m+\u001b[0m \u001b[1;34m'\\n'\u001b[0m\u001b[1;33m\u001b[0m\u001b[1;33m\u001b[0m\u001b[0m\n\u001b[0m\u001b[0;32m      6\u001b[0m \u001b[1;33m\u001b[0m\u001b[0m\n",
      "\u001b[1;31mKeyboardInterrupt\u001b[0m: "
     ]
    }
   ],
   "metadata": {}
  },
  {
   "cell_type": "code",
   "execution_count": 2,
   "source": [
    "# with open('without_title_text.pkl', 'wb') as f:\r\n",
    "#     pickle.dump(title_text, f)\r\n",
    "\r\n",
    "\r\n",
    "with open('./without_name/without_title_text.pkl', 'rb') as f:\r\n",
    "    title_text = pickle.load(f)"
   ],
   "outputs": [],
   "metadata": {}
  },
  {
   "cell_type": "code",
   "execution_count": 3,
   "source": [
    "tokens_ko = t.morphs(title_text)\r\n",
    "ko = nltk.Text(tokens_ko)\r\n",
    "print(\"토큰 전체 개수: \", len(ko.tokens))          # 토큰 전체 개수\r\n",
    "print(\"토큰 unique 개수: \", len(set(ko.tokens)))     # 토큰 unique 개수\r\n"
   ],
   "outputs": [
    {
     "output_type": "stream",
     "name": "stderr",
     "text": [
      "WARNING:root:JVM is already running. Do not init twice!\n"
     ]
    },
    {
     "output_type": "stream",
     "name": "stdout",
     "text": [
      "6895680\n",
      "81670\n"
     ]
    }
   ],
   "metadata": {}
  },
  {
   "cell_type": "code",
   "execution_count": 10,
   "source": [
    "\r\n",
    "stop_words = ['··',\"''\",'),','(-',')-','\",','],','\\n ',\\\r\n",
    "              '\\n',\"'\",'…',',','[',']','(',')','\"','주','에','코스닥','특징','종목','·','장','코스피','증시','-','적',\\\r\n",
    "              '도','기술','분석','마감','‘','`','요약','가','’','의','이','오전','★','은','“','대','”','한','B','로',\\\r\n",
    "              '?','3','선','A','오후','는','5','!','\"…','상','들','1','만에','제','2','…\"','20','일','서','명',\"'…\",'기',\\\r\n",
    "              '···','10','소','등','으로','자','전','률','미','...','50','세','시','안','폭',\"…'\",'만','9','VI','까지',\\\r\n",
    "              '눈','더','e','량','고','인','52','성','띄네','1%','부터','다','감','을','지','4','에도','수','7','것','째',\\\r\n",
    "             '체크','기','···','중','계','관련','왜','1억원','총','내','과','젠','또','연','엔','차','굿모닝','할','8','.',\\\r\n",
    "             '보다','새','주간','전망','추천','이슈','플러스','사','개월','때','..','임','속','’…','G','나','개','원','에서',\\\r\n",
    "             '하는','이유','달','→','권','?…','단독','간','배','30','K','저','와','하','/','1조','6','두','해야','분','형',\\\r\n",
    "             '황','공','&','앞두고','보','문','이번','익','X','1억',']\"','치','산','를','오','해','S','우리','그','된','준','▶',\\\r\n",
    "             '건','재','반','라','10년','초','3분','월','신','p','급','조','줄','경','했다','구','진','이어','올','발','vs','강',\\\r\n",
    "             '국','9억','1년','난','판','면','\"(','`…','살','아','인데','번','텍','팜','8월','Q','메','2년','점','하고','10월',\\\r\n",
    "             'D','비','됐다','채',\"]'\",'보니','손','확','종','동','팔','40','타','~','9월','2100','30%','땐','말','한다','요',\\\r\n",
    "             \"',\",'스','…`','단','16','길','12','3억','회','될까','호','용','2조','번째','일까','듯','최']\r\n",
    "\r\n",
    "tokens_ko = [each_word for each_word in tokens_ko if each_word not in stop_words]\r\n",
    "ko = nltk.Text(tokens_ko)\r\n",
    "\r\n",
    "print(ko.vocab().most_common(200))\r\n",
    "\r\n",
    "# 그래프에서 한글 폰트가 깨질 경우 실행\r\n",
    "from matplotlib import font_manager, rc\r\n",
    "font_name = font_manager.FontProperties(fname='c:/Windows/Fonts/malgun.ttf').get_name()\r\n",
    "rc('font', family=font_name)\r\n",
    "\r\n",
    "plt.figure(figsize=(15,6))\r\n",
    "ko.plot(50)\r\n",
    "plt.show()\r\n"
   ],
   "outputs": [
    {
     "output_type": "stream",
     "name": "stdout",
     "text": [
      "[('투자', 37293), ('영업', 24317), ('뉴스', 22967), ('출시', 21193), ('ET', 18789), ('실적', 18666), ('증권', 18394), ('↑', 16986), ('사업', 16942), ('상승', 15652), ('코로나', 14229), ('시장', 13715), ('기업', 13220), ('목표', 13038), ('대비', 13012), ('규모', 13001), ('BUY', 12663), ('건설', 12434), ('위', 12374), ('삼성', 12107), ('매출', 10717), ('개발', 10705), ('전일', 10524), ('이익', 10170), ('거래', 10041), ('지원', 10008), ('판매', 9831), ('주가', 9640), ('계약', 9614), ('수주', 9198), ('최대', 9133), ('년', 9070), ('전자', 8932), ('19', 8851), ('美', 8835), ('유지', 8827), ('첫', 8777), ('서비스', 8761), ('↓', 8422), ('한국', 8219), ('SK', 8089), ('확대', 8074), ('화', 8004), ('공급', 7982), ('그룹', 7871), ('회장', 7720), ('글로벌', 7517), ('매수', 7501), ('종합', 7483), ('성장', 7422), ('현대', 7248), ('공장', 7242), ('인수', 7210), ('LG', 7203), ('협력', 7152), ('체결', 6980), ('개최', 6963), ('2분', 6963), ('1분', 6884), ('올해', 6829), ('기대', 6761), ('比', 6757), ('증가', 6592), ('롯데', 6553), ('개선', 6457), ('경영', 6444), ('하락', 6394), ('수상', 6326), ('치료', 6110), ('진행', 6104), ('국내', 6091), ('배터리', 6044), ('이상', 5995), ('브랜드', 5887), ('공시', 5744), ('외국인', 5695), ('약', 5652), ('강화', 5629), ('화학', 5607), ('대표', 5585), ('금융', 5435), ('결정', 5435), ('분양', 5431), ('바이오', 5399), ('해외', 5299), ('사장', 5295), ('선정', 5295), ('5%', 5263), ('강세', 5200), ('고객', 5188), ('현대차', 5156), ('공개', 5142), ('연속', 5131), ('생산', 5131), ('기관', 5126), ('직원', 4919), ('證', 4912), ('협약', 4903), ('매각', 4898), ('대상', 4821), ('+', 4814), ('돌파', 4773), ('순', 4764), ('발전', 4678), ('시작', 4651), ('주식', 4650), ('中', 4628), ('AI', 4576), ('이벤트', 4553), ('최초', 4472), ('신고', 4450), ('전환', 4443), ('제약', 4409), ('홈쇼핑', 4406), ('혁신', 4400), ('세계', 4382), ('시스템', 4325), ('산업', 4312), ('부문', 4274), ('오픈', 4209), ('반도체', 4174), ('추진', 4109), ('TV', 4048), ('지난해', 4001), ('본격', 3970), ('어', 3934), ('전기차', 3883), ('하반기', 3881), ('최고', 3869), ('감소', 3863), ('마켓', 3833), ('진출', 3819), ('미국', 3817), ('중국', 3809), ('작년', 3773), ('친환경', 3755), ('후', 3696), ('스마트', 3693), ('하나', 3683), ('보험', 3661), ('실시', 3661), ('씨', 3615), ('하이닉스', 3601), ('한화', 3597), ('공략', 3572), ('안전', 3568), ('신규', 3567), ('할인', 3562), ('업무', 3538), ('액', 3512), ('수출', 3496), ('내년', 3457), ('도입', 3440), ('상품', 3399), ('행사', 3396), ('NH', 3393), ('미래', 3386), ('KB', 3386), ('센터', 3354), ('포토', 3345), ('지속', 3329), ('년비', 3328), ('온라인', 3327), ('추가', 3325), ('캠페인', 3322), ('게임', 3291), ('지역', 3267), ('부진', 3253), ('솔루션', 3245), ('공사', 3233), ('금융투자', 3232), ('사회', 3201), ('IBK', 3200), ('쇼핑', 3184), ('효과', 3135), ('부회장', 3130), ('경로', 3110), ('빅데이터', 3083), ('2019', 3070), ('업계', 3065), ('에너지', 3062), ('중공업', 3061), ('대감', 3058), ('급등', 3047), ('소재', 3032), ('제일제당', 3031), ('자회사', 3029), ('식', 3029), ('공동', 3026), ('4분', 3001), ('주주', 2987), ('유럽', 2986), ('구축', 2972), ('회복', 2952), ('플랫폼', 2948), ('GC', 2948), ('유', 2941), ('디지털', 2875), ('기록', 2849), ('MOU', 2842)]\n"
     ]
    },
    {
     "output_type": "display_data",
     "data": {
      "text/plain": [
       "<Figure size 1080x432 with 1 Axes>"
      ],
      "image/png": "[encoded data removed]"
     },
     "metadata": {
      "needs_background": "light"
     }
    }
   ],
   "metadata": {}
  },
  {
   "cell_type": "code",
   "execution_count": 11,
   "source": [
    "# 형태소 분석을 위한 함수\r\n",
    "def tokenizer(text):\r\n",
    "    okt = Okt()\r\n",
    "    return okt.morphs(text)\r\n",
    "\r\n",
    "def data_preprocessing():\r\n",
    "    # 수집한 데이터 읽어오기\r\n",
    "    # news_df = pd.read_excel()\r\n",
    "    # 학습셋, 테스트셋 분리\r\n",
    "    title_list = news_df['뉴스제목'].tolist()\r\n",
    "    price_list = news_df['주가변동'].tolist()\r\n",
    "    # 데이터의 80%는 학습셋, 20%는 테스트셋\r\n",
    "    title_train, title_test, price_train, price_test = train_test_split(title_list, price_list, test_size=0.2, random_state=0)\r\n",
    "    return title_train, title_test, price_train, price_test\r\n",
    "\r\n",
    "def learning(x_train, y_train, x_test, y_test):\r\n",
    "    # 전처리가 끝난 데이터를 단어 사전으로 만들고\r\n",
    "    # 리뷰별로 나오는 단어를 파악해서 수치화 (벡터화)해서 학습\r\n",
    "    # tfidf, 로지스틱 회귀 이용\r\n",
    "    tfidf = TfidfVectorizer(lowercase=False, tokenizer=tokenizer)\r\n",
    "    # 로지스틱\r\n",
    "    logistic = LogisticRegression(C=2, penalty='l2', random_state=0, verbose=1)     # C의 숫자가 너무 크면 과적합 (기본 1), penalty로 과적합 방지\r\n",
    "    pipe = Pipeline([('vect',tfidf),('clf',logistic)])\r\n",
    "    # 학습\r\n",
    "    pipe.fit(x_train, y_train)\r\n",
    "    # 학습 정확도 측정\r\n",
    "    y_pred = pipe.predict(x_test)\r\n",
    "    print(accuracy_score(y_test, y_pred))\r\n",
    "    # 학습한 모델을 저장\r\n",
    "    with open('./saved_models/LogiReg/pipe.dat', 'wb') as fp:     # 쓰기, 바탕화면에 저장됨\r\n",
    "        pickle.dump(pipe, fp)\r\n",
    "    print('저장완료')     # 학습된 모델 저장 완료\r\n",
    "\r\n",
    "def using():\r\n",
    "    # 객체를 복원, 저장된 모델 불러오기\r\n",
    "    with open('./saved_models/LogiReg/pipe.dat','rb') as fp:     # 읽기\r\n",
    "        pipe = pickle.load(fp)\r\n",
    "    while True :\r\n",
    "        text = input('뉴스 타이틀을 입력해주세요 : ')\r\n",
    "        str = [text]\r\n",
    "        # 예측 정확도\r\n",
    "        r1 = np.max(pipe.predict_proba(str)*100)     # 확률값을 구해서 *100\r\n",
    "        # 예측 결과\r\n",
    "        r2 = pipe.predict(str)[0]     # 긍정('1'), 부정('0')\r\n",
    "        if r2 == '1':\r\n",
    "            print('코스피지수는 상승할 것으로 예상됩니다.')\r\n",
    "        else: \r\n",
    "            print('코스피지수는 하락할 것으로 예상됩니다.')\r\n",
    "        print('정확도 : %.3f' % r1)\r\n",
    "        print('------------------------------------------------')\r\n"
   ],
   "outputs": [],
   "metadata": {}
  },
  {
   "cell_type": "code",
   "execution_count": 15,
   "source": [
    "# 학습 함수\r\n",
    "def model_learning():   # 감성분석 모델 생성\r\n",
    "    title_train, title_test, price_train, price_test = data_preprocessing()\r\n",
    "    learning(title_train, price_train, title_test, price_test)\r\n",
    "    \r\n",
    "# 사용 함수\r\n",
    "def model_using():   # 감성분석 모델 사용\r\n",
    "    using()\r\n",
    "\r\n",
    "model_learning()\r\n",
    "\r\n"
   ],
   "outputs": [
    {
     "output_type": "stream",
     "name": "stdout",
     "text": [
      "0.5940006081106761\n",
      "저장완료\n"
     ]
    }
   ],
   "metadata": {}
  },
  {
   "cell_type": "code",
   "execution_count": 17,
   "source": [
    "model_using()"
   ],
   "outputs": [
    {
     "output_type": "stream",
     "name": "stdout",
     "text": [
      "코스피지수는 하락할 것으로 예상됩니다.\n",
      "정확도 : 52.208\n",
      "------------------------------------------------\n",
      "코스피지수는 하락할 것으로 예상됩니다.\n",
      "정확도 : 60.870\n",
      "------------------------------------------------\n",
      "코스피지수는 하락할 것으로 예상됩니다.\n",
      "정확도 : 75.313\n",
      "------------------------------------------------\n",
      "코스피지수는 하락할 것으로 예상됩니다.\n",
      "정확도 : 58.836\n",
      "------------------------------------------------\n",
      "코스피지수는 하락할 것으로 예상됩니다.\n",
      "정확도 : 52.185\n",
      "------------------------------------------------\n",
      "코스피지수는 하락할 것으로 예상됩니다.\n",
      "정확도 : 50.152\n",
      "------------------------------------------------\n",
      "코스피지수는 하락할 것으로 예상됩니다.\n",
      "정확도 : 51.806\n",
      "------------------------------------------------\n"
     ]
    },
    {
     "output_type": "error",
     "ename": "KeyboardInterrupt",
     "evalue": "Interrupted by user",
     "traceback": [
      "\u001b[1;31m---------------------------------------------------------------------------\u001b[0m",
      "\u001b[1;31mKeyboardInterrupt\u001b[0m                         Traceback (most recent call last)",
      "\u001b[1;32m~\\AppData\\Local\\Temp/ipykernel_13672/2586695648.py\u001b[0m in \u001b[0;36m<module>\u001b[1;34m\u001b[0m\n\u001b[1;32m----> 1\u001b[1;33m \u001b[0mmodel_using\u001b[0m\u001b[1;33m(\u001b[0m\u001b[1;33m)\u001b[0m\u001b[1;33m\u001b[0m\u001b[1;33m\u001b[0m\u001b[0m\n\u001b[0m",
      "\u001b[1;32m~\\AppData\\Local\\Temp/ipykernel_13672/2181292561.py\u001b[0m in \u001b[0;36mmodel_using\u001b[1;34m()\u001b[0m\n\u001b[0;32m      6\u001b[0m \u001b[1;31m# 사용 함수\u001b[0m\u001b[1;33m\u001b[0m\u001b[1;33m\u001b[0m\u001b[1;33m\u001b[0m\u001b[0m\n\u001b[0;32m      7\u001b[0m \u001b[1;32mdef\u001b[0m \u001b[0mmodel_using\u001b[0m\u001b[1;33m(\u001b[0m\u001b[1;33m)\u001b[0m\u001b[1;33m:\u001b[0m   \u001b[1;31m# 감성분석 모델 사용\u001b[0m\u001b[1;33m\u001b[0m\u001b[1;33m\u001b[0m\u001b[0m\n\u001b[1;32m----> 8\u001b[1;33m     \u001b[0musing\u001b[0m\u001b[1;33m(\u001b[0m\u001b[1;33m)\u001b[0m\u001b[1;33m\u001b[0m\u001b[1;33m\u001b[0m\u001b[0m\n\u001b[0m\u001b[0;32m      9\u001b[0m \u001b[1;33m\u001b[0m\u001b[0m\n\u001b[0;32m     10\u001b[0m \u001b[0mmodel_learning\u001b[0m\u001b[1;33m(\u001b[0m\u001b[1;33m)\u001b[0m\u001b[1;33m\u001b[0m\u001b[1;33m\u001b[0m\u001b[0m\n",
      "\u001b[1;32m~\\AppData\\Local\\Temp/ipykernel_13672/2093889789.py\u001b[0m in \u001b[0;36musing\u001b[1;34m()\u001b[0m\n\u001b[0;32m     37\u001b[0m         \u001b[0mpipe\u001b[0m \u001b[1;33m=\u001b[0m \u001b[0mpickle\u001b[0m\u001b[1;33m.\u001b[0m\u001b[0mload\u001b[0m\u001b[1;33m(\u001b[0m\u001b[0mfp\u001b[0m\u001b[1;33m)\u001b[0m\u001b[1;33m\u001b[0m\u001b[1;33m\u001b[0m\u001b[0m\n\u001b[0;32m     38\u001b[0m     \u001b[1;32mwhile\u001b[0m \u001b[1;32mTrue\u001b[0m \u001b[1;33m:\u001b[0m\u001b[1;33m\u001b[0m\u001b[1;33m\u001b[0m\u001b[0m\n\u001b[1;32m---> 39\u001b[1;33m         \u001b[0mtext\u001b[0m \u001b[1;33m=\u001b[0m \u001b[0minput\u001b[0m\u001b[1;33m(\u001b[0m\u001b[1;34m'뉴스 타이틀을 입력해주세요 : '\u001b[0m\u001b[1;33m)\u001b[0m\u001b[1;33m\u001b[0m\u001b[1;33m\u001b[0m\u001b[0m\n\u001b[0m\u001b[0;32m     40\u001b[0m         \u001b[0mstr\u001b[0m \u001b[1;33m=\u001b[0m \u001b[1;33m[\u001b[0m\u001b[0mtext\u001b[0m\u001b[1;33m]\u001b[0m\u001b[1;33m\u001b[0m\u001b[1;33m\u001b[0m\u001b[0m\n\u001b[0;32m     41\u001b[0m         \u001b[1;31m# 예측 정확도\u001b[0m\u001b[1;33m\u001b[0m\u001b[1;33m\u001b[0m\u001b[1;33m\u001b[0m\u001b[0m\n",
      "\u001b[1;32mC:\\MG\\Python\\Python39\\lib\\site-packages\\ipykernel\\kernelbase.py\u001b[0m in \u001b[0;36mraw_input\u001b[1;34m(self, prompt)\u001b[0m\n\u001b[0;32m    979\u001b[0m                 \u001b[1;34m\"raw_input was called, but this frontend does not support input requests.\"\u001b[0m\u001b[1;33m\u001b[0m\u001b[1;33m\u001b[0m\u001b[0m\n\u001b[0;32m    980\u001b[0m             )\n\u001b[1;32m--> 981\u001b[1;33m         return self._input_request(\n\u001b[0m\u001b[0;32m    982\u001b[0m             \u001b[0mstr\u001b[0m\u001b[1;33m(\u001b[0m\u001b[0mprompt\u001b[0m\u001b[1;33m)\u001b[0m\u001b[1;33m,\u001b[0m\u001b[1;33m\u001b[0m\u001b[1;33m\u001b[0m\u001b[0m\n\u001b[0;32m    983\u001b[0m             \u001b[0mself\u001b[0m\u001b[1;33m.\u001b[0m\u001b[0m_parent_ident\u001b[0m\u001b[1;33m[\u001b[0m\u001b[1;34m\"shell\"\u001b[0m\u001b[1;33m]\u001b[0m\u001b[1;33m,\u001b[0m\u001b[1;33m\u001b[0m\u001b[1;33m\u001b[0m\u001b[0m\n",
      "\u001b[1;32mC:\\MG\\Python\\Python39\\lib\\site-packages\\ipykernel\\kernelbase.py\u001b[0m in \u001b[0;36m_input_request\u001b[1;34m(self, prompt, ident, parent, password)\u001b[0m\n\u001b[0;32m   1024\u001b[0m             \u001b[1;32mexcept\u001b[0m \u001b[0mKeyboardInterrupt\u001b[0m\u001b[1;33m:\u001b[0m\u001b[1;33m\u001b[0m\u001b[1;33m\u001b[0m\u001b[0m\n\u001b[0;32m   1025\u001b[0m                 \u001b[1;31m# re-raise KeyboardInterrupt, to truncate traceback\u001b[0m\u001b[1;33m\u001b[0m\u001b[1;33m\u001b[0m\u001b[1;33m\u001b[0m\u001b[0m\n\u001b[1;32m-> 1026\u001b[1;33m                 \u001b[1;32mraise\u001b[0m \u001b[0mKeyboardInterrupt\u001b[0m\u001b[1;33m(\u001b[0m\u001b[1;34m\"Interrupted by user\"\u001b[0m\u001b[1;33m)\u001b[0m \u001b[1;32mfrom\u001b[0m \u001b[1;32mNone\u001b[0m\u001b[1;33m\u001b[0m\u001b[1;33m\u001b[0m\u001b[0m\n\u001b[0m\u001b[0;32m   1027\u001b[0m             \u001b[1;32mexcept\u001b[0m \u001b[0mException\u001b[0m\u001b[1;33m:\u001b[0m\u001b[1;33m\u001b[0m\u001b[1;33m\u001b[0m\u001b[0m\n\u001b[0;32m   1028\u001b[0m                 \u001b[0mself\u001b[0m\u001b[1;33m.\u001b[0m\u001b[0mlog\u001b[0m\u001b[1;33m.\u001b[0m\u001b[0mwarning\u001b[0m\u001b[1;33m(\u001b[0m\u001b[1;34m\"Invalid Message:\"\u001b[0m\u001b[1;33m,\u001b[0m \u001b[0mexc_info\u001b[0m\u001b[1;33m=\u001b[0m\u001b[1;32mTrue\u001b[0m\u001b[1;33m)\u001b[0m\u001b[1;33m\u001b[0m\u001b[1;33m\u001b[0m\u001b[0m\n",
      "\u001b[1;31mKeyboardInterrupt\u001b[0m: Interrupted by user"
     ]
    }
   ],
   "metadata": {}
  }
 ],
 "metadata": {
  "orig_nbformat": 4,
  "language_info": {
   "name": "python",
   "version": "3.9.6",
   "mimetype": "text/x-python",
   "codemirror_mode": {
    "name": "ipython",
    "version": 3
   },
   "pygments_lexer": "ipython3",
   "nbconvert_exporter": "python",
   "file_extension": ".py"
  },
  "kernelspec": {
   "name": "python3",
   "display_name": "Python 3.9.6 64-bit"
  },
  "interpreter": {
   "hash": "5bbcfba0af128e6b66c2bfbf999bccbbcb5a23b4768301f164b5fec2568e5d70"
  }
 },
 "nbformat": 4,
 "nbformat_minor": 2
}