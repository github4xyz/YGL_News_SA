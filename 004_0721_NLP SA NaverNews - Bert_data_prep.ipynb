{
 "cells": [
  {
   "cell_type": "code",
   "execution_count": 1,
   "source": [
    "import numpy as np\r\n",
    "import pandas as pd\r\n",
    "import re\r\n"
   ],
   "outputs": [],
   "metadata": {}
  },
  {
   "cell_type": "code",
   "execution_count": 2,
   "source": [
    "# df_without = pd.read_csv('./without_name/EDA_headlines.tsv', sep=\"\\t\")\r\n",
    "df_with = pd.read_csv('./with_name/EDA_headlines.tsv', sep=\"\\t\") \r\n",
    "\r\n",
    "df_temp = df_with.sample(100)"
   ],
   "outputs": [],
   "metadata": {}
  },
  {
   "cell_type": "code",
   "execution_count": 27,
   "source": [
    "counter = 1\r\n",
    "for _, line in df_with.iterrows():\r\n",
    "\r\n",
    "    if line[\"주가변동\"] == 0:\r\n",
    "        sen = line[\"뉴스제목\"]\r\n",
    "        filename = './with_name/classes/0/{0:06d}.txt'.format(counter)\r\n",
    "        text_file = open(filename, \"w\", encoding='utf-8')\r\n",
    "        text_file.write(sen)\r\n",
    "        text_file.close()\r\n",
    "    else:\r\n",
    "        sen = line[\"뉴스제목\"]\r\n",
    "        filename = './with_name/classes/1/{0:06d}.txt'.format(counter)\r\n",
    "        text_file = open(filename, \"w\", encoding='utf-8')\r\n",
    "        text_file.write(sen)\r\n",
    "        text_file.close()\r\n",
    "\r\n",
    "    counter += 1"
   ],
   "outputs": [],
   "metadata": {}
  },
  {
   "cell_type": "code",
   "execution_count": null,
   "source": [
    "counter = 1\r\n",
    "for _, line in df_with.iterrows():\r\n",
    "\r\n",
    "    if line[\"주가변동\"] == 0:\r\n",
    "        sen = line[\"뉴스제목\"]\r\n",
    "        filename = './with_name/classes/0/{0:06d}.txt'.format(counter)\r\n",
    "        text_file = open(filename, \"w\", encoding='utf-8')\r\n",
    "        text_file.write(sen)\r\n",
    "        text_file.close()\r\n",
    "    else:\r\n",
    "        sen = line[\"뉴스제목\"]\r\n",
    "        filename = './with_name/classes/1/{0:06d}.txt'.format(counter)\r\n",
    "        text_file = open(filename, \"w\", encoding='utf-8')\r\n",
    "        text_file.write(sen)\r\n",
    "        text_file.close()\r\n",
    "\r\n",
    "    counter += 1"
   ],
   "outputs": [],
   "metadata": {}
  },
  {
   "cell_type": "code",
   "execution_count": 4,
   "source": [
    "# first attempt to keep some Stock market specific words\r\n",
    "df_without['뉴스제목'] = df_without['뉴스제목'].str.replace('\\s+', ' ', regex=True)\r\n",
    "df_without['뉴스제목'] = df_without['뉴스제목'].map(lambda x: re.sub('[,.!·,…*)@#(&$_?.^\\\\‘|\\(\\)\\[\\]\\<\\>`]', '', x))\r\n",
    "\r\n",
    "df_with['뉴스제목'] = df_with['뉴스제목'].str.replace('\\s+', ' ', regex=True)\r\n",
    "df_with['뉴스제목'] = df_with['뉴스제목'].map(lambda x: re.sub('[,.!·,…*)@#(&$_?.^\\\\‘|\\(\\)\\[\\]\\<\\>`]', '', x))\r\n"
   ],
   "outputs": [],
   "metadata": {}
  },
  {
   "cell_type": "code",
   "execution_count": 5,
   "source": [
    "df_without.to_csv('./without_name/Cleaned_headlines.tsv', index=False, encoding='utf-8', sep=\"\\t\")\r\n",
    "df_with.to_csv('./with_name/Cleaned_headlines.tsv', index=False, encoding='utf-8', sep=\"\\t\")"
   ],
   "outputs": [],
   "metadata": {}
  }
 ],
 "metadata": {
  "orig_nbformat": 4,
  "language_info": {
   "name": "python",
   "version": "3.9.6",
   "mimetype": "text/x-python",
   "codemirror_mode": {
    "name": "ipython",
    "version": 3
   },
   "pygments_lexer": "ipython3",
   "nbconvert_exporter": "python",
   "file_extension": ".py"
  },
  "kernelspec": {
   "name": "python3",
   "display_name": "Python 3.9.6 64-bit"
  },
  "interpreter": {
   "hash": "5bbcfba0af128e6b66c2bfbf999bccbbcb5a23b4768301f164b5fec2568e5d70"
  }
 },
 "nbformat": 4,
 "nbformat_minor": 2
}