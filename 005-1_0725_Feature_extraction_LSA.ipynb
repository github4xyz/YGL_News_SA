{
 "cells": [
  {
   "cell_type": "code",
   "execution_count": 2,
   "source": [
    "import scipy as sp\r\n",
    "import pandas as pd\r\n",
    "import numpy as np\r\n",
    "import konlpy\r\n",
    "konlpy.jvm.init_jvm(jvmpath=None, max_heap_size=10240)\r\n",
    "\r\n",
    "from konlpy.tag import Kkma        ; kkma = Kkma()\r\n",
    "from konlpy.tag import Hannanum    ; hannanum = Hannanum()\r\n",
    "from konlpy.tag import Okt         ; t = Okt()     # 구 트위터\r\n",
    "from konlpy.tag import *\r\n",
    "\r\n",
    "import nltk\r\n",
    "import pickle\r\n",
    "import re\r\n",
    "\r\n",
    "from wordcloud import WordCloud, STOPWORDS\r\n",
    "from PIL import Image\r\n",
    "\r\n",
    "from sklearn.feature_extraction.text import CountVectorizer\r\n",
    "from sklearn.feature_extraction.text import TfidfVectorizer \r\n",
    "from sklearn.linear_model import LogisticRegression\r\n",
    "from sklearn.pipeline import Pipeline \r\n",
    "from sklearn.metrics import accuracy_score\r\n",
    "from sklearn.model_selection import train_test_split\r\n",
    "\r\n",
    "\r\n",
    "import os\r\n",
    "import matplotlib.pyplot as plt\r\n",
    "import seaborn as sns\r\n",
    "import graphviz\r\n",
    "from sklearn.tree import export_graphviz\r\n",
    "\r\n",
    "import matplotlib.font_manager as fm\r\n",
    "plt.rc('font', family='NanumGothic')\r\n",
    "\r\n",
    "import matplotlib as mpl\r\n",
    "mpl.rcParams['axes.unicode_minus'] = False\r\n",
    "\r\n",
    "import warnings\r\n",
    "warnings.filterwarnings('ignore')"
   ],
   "outputs": [],
   "metadata": {}
  },
  {
   "cell_type": "markdown",
   "source": [
    "https://wikidocs.net/24949"
   ],
   "metadata": {}
  },
  {
   "cell_type": "code",
   "execution_count": 3,
   "source": [
    "df_with = pd.read_csv('./with_name/all_headlines.tsv', sep=\"\\t\")\r\n",
    "\r\n",
    "df_with"
   ],
   "outputs": [
    {
     "output_type": "execute_result",
     "data": {
      "text/plain": [
       "                                          뉴스제목  주가변동\n",
       "0            LG생활건강, ‘숨37° 로시크숨마 황제의 빛 에디션’ 선봬     1\n",
       "1            [IR]SK이노베이션 \"내년 시설투자, 올해보다 낮은 수준\"     1\n",
       "2                   수출입銀, CJ대한통운 해외채권 발행 공동 보증     0\n",
       "3       브랜드 아파트 700만원대에 마련할 마지막 기회! ‘사천 KCC스위첸     1\n",
       "4                     LG전자, 뉴욕 한복판에서 영화 상영한 사연     0\n",
       "...                                        ...   ...\n",
       "611468    한국항공우주, 인니에 269억원 규모 KT-1B 훈련기 공급 계약     1\n",
       "611469                    '하이트진로 3세' 박태영 사장 승진     1\n",
       "611470        [특징주] '형제의 난' 재점화 가능성에...롯데지주 강세     0\n",
       "611471          제일기획, 비상교육과 청소년 대상 '마음 교과서' 개발     1\n",
       "611472        KT주도 '클라우드 원팀'에 한컴 등 3개 기업·기관 합류     0\n",
       "\n",
       "[611473 rows x 2 columns]"
      ],
      "text/html": [
       "<div>\n",
       "<style scoped>\n",
       "    .dataframe tbody tr th:only-of-type {\n",
       "        vertical-align: middle;\n",
       "    }\n",
       "\n",
       "    .dataframe tbody tr th {\n",
       "        vertical-align: top;\n",
       "    }\n",
       "\n",
       "    .dataframe thead th {\n",
       "        text-align: right;\n",
       "    }\n",
       "</style>\n",
       "<table border=\"1\" class=\"dataframe\">\n",
       "  <thead>\n",
       "    <tr style=\"text-align: right;\">\n",
       "      <th></th>\n",
       "      <th>뉴스제목</th>\n",
       "      <th>주가변동</th>\n",
       "    </tr>\n",
       "  </thead>\n",
       "  <tbody>\n",
       "    <tr>\n",
       "      <th>0</th>\n",
       "      <td>LG생활건강, ‘숨37° 로시크숨마 황제의 빛 에디션’ 선봬</td>\n",
       "      <td>1</td>\n",
       "    </tr>\n",
       "    <tr>\n",
       "      <th>1</th>\n",
       "      <td>[IR]SK이노베이션 \"내년 시설투자, 올해보다 낮은 수준\"</td>\n",
       "      <td>1</td>\n",
       "    </tr>\n",
       "    <tr>\n",
       "      <th>2</th>\n",
       "      <td>수출입銀, CJ대한통운 해외채권 발행 공동 보증</td>\n",
       "      <td>0</td>\n",
       "    </tr>\n",
       "    <tr>\n",
       "      <th>3</th>\n",
       "      <td>브랜드 아파트 700만원대에 마련할 마지막 기회! ‘사천 KCC스위첸</td>\n",
       "      <td>1</td>\n",
       "    </tr>\n",
       "    <tr>\n",
       "      <th>4</th>\n",
       "      <td>LG전자, 뉴욕 한복판에서 영화 상영한 사연</td>\n",
       "      <td>0</td>\n",
       "    </tr>\n",
       "    <tr>\n",
       "      <th>...</th>\n",
       "      <td>...</td>\n",
       "      <td>...</td>\n",
       "    </tr>\n",
       "    <tr>\n",
       "      <th>611468</th>\n",
       "      <td>한국항공우주, 인니에 269억원 규모 KT-1B 훈련기 공급 계약</td>\n",
       "      <td>1</td>\n",
       "    </tr>\n",
       "    <tr>\n",
       "      <th>611469</th>\n",
       "      <td>'하이트진로 3세' 박태영 사장 승진</td>\n",
       "      <td>1</td>\n",
       "    </tr>\n",
       "    <tr>\n",
       "      <th>611470</th>\n",
       "      <td>[특징주] '형제의 난' 재점화 가능성에...롯데지주 강세</td>\n",
       "      <td>0</td>\n",
       "    </tr>\n",
       "    <tr>\n",
       "      <th>611471</th>\n",
       "      <td>제일기획, 비상교육과 청소년 대상 '마음 교과서' 개발</td>\n",
       "      <td>1</td>\n",
       "    </tr>\n",
       "    <tr>\n",
       "      <th>611472</th>\n",
       "      <td>KT주도 '클라우드 원팀'에 한컴 등 3개 기업·기관 합류</td>\n",
       "      <td>0</td>\n",
       "    </tr>\n",
       "  </tbody>\n",
       "</table>\n",
       "<p>611473 rows × 2 columns</p>\n",
       "</div>"
      ]
     },
     "metadata": {},
     "execution_count": 3
    }
   ],
   "metadata": {}
  },
  {
   "cell_type": "code",
   "execution_count": 4,
   "source": [
    "df_with['뉴스제목'] = df_with['뉴스제목'].str.replace('\\s+', ' ', regex=True)\r\n",
    "df_with['뉴스제목'] = df_with['뉴스제목'].map(lambda x: re.sub('[0-9,.!·,…*>%@#&$<_?.:\\“\\/\\”\\’\\'\\\"\\^\\\\‘\\|\\`\\(\\)\\[\\]\\{\\}]', '', x))\r\n",
    "df_with['뉴스제목'] = df_with['뉴스제목'].map(lambda x: re.sub('\\u200c', '', x))\r\n",
    "df_with['뉴스제목'] = df_with['뉴스제목'].map(lambda x: re.sub('[-–ㆍ]', ' ', x))"
   ],
   "outputs": [],
   "metadata": {}
  },
  {
   "cell_type": "code",
   "execution_count": 5,
   "source": [
    "stop_words = ['\\u200c','\\n ','\\n',\"'\",'…',',','[',']','(',')','\"','주','에','·','장','-','적',\\\r\n",
    "              '도','‘','`','가','’','의','이','★','은','“','대','”','한','B','로',\\\r\n",
    "              '?','선','A','는','!','\"…','상','들','제','…\"','일','서','명',\"'…\",'기',\\\r\n",
    "              '···','소','등','자','전','률','미','...','세','시','안','폭',\"…'\",'만','억',\\\r\n",
    "              '눈','더','량','고','인','성','다','감','을','지','수','것','째',\\\r\n",
    "              '기','···','중','계','왜','총','내','과','젠','또','연','엔','차','할',\\\r\n",
    "              '새','사','때','..','임','속','’…','G','나','개','원',\\\r\n",
    "             '달','→','권','?…','간','배','K','저','와','하','/','조','두','분','형',\\\r\n",
    "             '황','공','&','보','문','익','X','억원',']\"','치','산','를','오','해','S','그','된','준','▶',\\\r\n",
    "             '건','재','반','라','년','초','분','월','신','p','급','줄','경','구','진','올','발','vs','강',\\\r\n",
    "             '국','난','판','면','\"(','`…','살','아','번','텍','팜','Q','메','점','월',\\\r\n",
    "             'D','비','됐다','채',\"]'\",'보니','손','확','종','동','팔','타','~','땐','말','요',\\\r\n",
    "             \"',\",'스','…`','단','길','회','호','용','듯','최']\r\n",
    "\r\n",
    "df_with['뉴스제목'] = [each_word for each_word in df_with['뉴스제목'] if each_word not in stop_words]"
   ],
   "outputs": [],
   "metadata": {}
  },
  {
   "cell_type": "code",
   "execution_count": 7,
   "source": [
    "df_with"
   ],
   "outputs": [
    {
     "output_type": "execute_result",
     "data": {
      "text/plain": [
       "                                     뉴스제목  주가변동\n",
       "0            LG생활건강 숨° 로시크숨마 황제의 빛 에디션 선봬     1\n",
       "1            IRSK이노베이션 내년 시설투자 올해보다 낮은 수준     1\n",
       "2               수출입銀 CJ대한통운 해외채권 발행 공동 보증     0\n",
       "3       브랜드 아파트 만원대에 마련할 마지막 기회 사천 KCC스위첸     1\n",
       "4                 LG전자 뉴욕 한복판에서 영화 상영한 사연     0\n",
       "...                                   ...   ...\n",
       "611468    한국항공우주 인니에 억원 규모 KT B 훈련기 공급 계약     1\n",
       "611469                  하이트진로 세 박태영 사장 승진     1\n",
       "611470          특징주 형제의 난 재점화 가능성에롯데지주 강세     0\n",
       "611471        제일기획 비상교육과 청소년 대상 마음 교과서 개발     1\n",
       "611472       KT주도 클라우드 원팀에 한컴 등 개 기업기관 합류     0\n",
       "\n",
       "[611473 rows x 2 columns]"
      ],
      "text/html": [
       "<div>\n",
       "<style scoped>\n",
       "    .dataframe tbody tr th:only-of-type {\n",
       "        vertical-align: middle;\n",
       "    }\n",
       "\n",
       "    .dataframe tbody tr th {\n",
       "        vertical-align: top;\n",
       "    }\n",
       "\n",
       "    .dataframe thead th {\n",
       "        text-align: right;\n",
       "    }\n",
       "</style>\n",
       "<table border=\"1\" class=\"dataframe\">\n",
       "  <thead>\n",
       "    <tr style=\"text-align: right;\">\n",
       "      <th></th>\n",
       "      <th>뉴스제목</th>\n",
       "      <th>주가변동</th>\n",
       "    </tr>\n",
       "  </thead>\n",
       "  <tbody>\n",
       "    <tr>\n",
       "      <th>0</th>\n",
       "      <td>LG생활건강 숨° 로시크숨마 황제의 빛 에디션 선봬</td>\n",
       "      <td>1</td>\n",
       "    </tr>\n",
       "    <tr>\n",
       "      <th>1</th>\n",
       "      <td>IRSK이노베이션 내년 시설투자 올해보다 낮은 수준</td>\n",
       "      <td>1</td>\n",
       "    </tr>\n",
       "    <tr>\n",
       "      <th>2</th>\n",
       "      <td>수출입銀 CJ대한통운 해외채권 발행 공동 보증</td>\n",
       "      <td>0</td>\n",
       "    </tr>\n",
       "    <tr>\n",
       "      <th>3</th>\n",
       "      <td>브랜드 아파트 만원대에 마련할 마지막 기회 사천 KCC스위첸</td>\n",
       "      <td>1</td>\n",
       "    </tr>\n",
       "    <tr>\n",
       "      <th>4</th>\n",
       "      <td>LG전자 뉴욕 한복판에서 영화 상영한 사연</td>\n",
       "      <td>0</td>\n",
       "    </tr>\n",
       "    <tr>\n",
       "      <th>...</th>\n",
       "      <td>...</td>\n",
       "      <td>...</td>\n",
       "    </tr>\n",
       "    <tr>\n",
       "      <th>611468</th>\n",
       "      <td>한국항공우주 인니에 억원 규모 KT B 훈련기 공급 계약</td>\n",
       "      <td>1</td>\n",
       "    </tr>\n",
       "    <tr>\n",
       "      <th>611469</th>\n",
       "      <td>하이트진로 세 박태영 사장 승진</td>\n",
       "      <td>1</td>\n",
       "    </tr>\n",
       "    <tr>\n",
       "      <th>611470</th>\n",
       "      <td>특징주 형제의 난 재점화 가능성에롯데지주 강세</td>\n",
       "      <td>0</td>\n",
       "    </tr>\n",
       "    <tr>\n",
       "      <th>611471</th>\n",
       "      <td>제일기획 비상교육과 청소년 대상 마음 교과서 개발</td>\n",
       "      <td>1</td>\n",
       "    </tr>\n",
       "    <tr>\n",
       "      <th>611472</th>\n",
       "      <td>KT주도 클라우드 원팀에 한컴 등 개 기업기관 합류</td>\n",
       "      <td>0</td>\n",
       "    </tr>\n",
       "  </tbody>\n",
       "</table>\n",
       "<p>611473 rows × 2 columns</p>\n",
       "</div>"
      ]
     },
     "metadata": {},
     "execution_count": 7
    }
   ],
   "metadata": {}
  },
  {
   "cell_type": "code",
   "execution_count": 8,
   "source": [
    "tokens_with = df_with.뉴스제목.values.tolist()\r\n",
    "title_text = '' \r\n",
    "for each_line in tokens_with:\r\n",
    "    title_text = title_text + each_line + '\\n'\r\n",
    "\r\n",
    "tokens_with = t.morphs(title_text)\r\n",
    "down = nltk.Text(tokens_with)\r\n",
    "print(\"토큰 전체 개수: \", len(down.tokens))          # 토큰 전체 개수\r\n",
    "print(\"토큰 unique 개수: \", len(set(down.tokens)))     # 토큰 unique 개수"
   ],
   "outputs": [
    {
     "output_type": "stream",
     "name": "stdout",
     "text": [
      "토큰 전체 개수:  6982428\n",
      "토큰 unique 개수:  59803\n"
     ]
    }
   ],
   "metadata": {}
  },
  {
   "cell_type": "code",
   "execution_count": 6,
   "source": [
    "from sklearn.feature_extraction.text import TfidfVectorizer\r\n",
    "\r\n",
    "vectorizer = TfidfVectorizer( \r\n",
    "    max_features= 10000, # 상위 1,000개의 단어를 보존 \r\n",
    "    max_df = 0.5, \r\n",
    "    smooth_idf=True)\r\n",
    "\r\n",
    "X = vectorizer.fit_transform(df_with['뉴스제목'])\r\n",
    "X.shape"
   ],
   "outputs": [
    {
     "output_type": "execute_result",
     "data": {
      "text/plain": [
       "(611473, 10000)"
      ]
     },
     "metadata": {},
     "execution_count": 6
    }
   ],
   "metadata": {}
  },
  {
   "cell_type": "code",
   "execution_count": 7,
   "source": [
    "from sklearn.decomposition import TruncatedSVD\r\n",
    "svd_model = TruncatedSVD(n_components=2, algorithm='randomized', n_iter=100, random_state=122)\r\n",
    "svd_model.fit(X)\r\n",
    "len(svd_model.components_)"
   ],
   "outputs": [
    {
     "output_type": "execute_result",
     "data": {
      "text/plain": [
       "2"
      ]
     },
     "metadata": {},
     "execution_count": 7
    }
   ],
   "metadata": {}
  },
  {
   "cell_type": "code",
   "execution_count": 8,
   "source": [
    "np.shape(svd_model.components_)"
   ],
   "outputs": [
    {
     "output_type": "execute_result",
     "data": {
      "text/plain": [
       "(2, 10000)"
      ]
     },
     "metadata": {},
     "execution_count": 8
    }
   ],
   "metadata": {}
  },
  {
   "cell_type": "code",
   "execution_count": 9,
   "source": [
    "terms = vectorizer.get_feature_names() # 단어 집합. 1,000개의 단어가 저장됨.\r\n",
    "\r\n",
    "def get_topics(components, feature_names, n=8):\r\n",
    "    for idx, topic in enumerate(components):\r\n",
    "        print(\"Topic %d:\" % (idx+1), [(feature_names[i], topic[i].round(5)) for i in topic.argsort()[:-n - 1:-1]])\r\n",
    "get_topics(svd_model.components_,terms)"
   ],
   "outputs": [
    {
     "output_type": "stream",
     "name": "stdout",
     "text": [
      "Topic 1: [('분기', 0.51668), ('영업익', 0.40439), ('대비', 0.34995), ('전일', 0.31754), ('상승', 0.23107), ('억원', 0.17923), ('영업이익', 0.17205), ('하락한', 0.13328)]\n",
      "Topic 2: [('전일', 0.44585), ('대비', 0.40139), ('상승', 0.29773), ('하락한', 0.18586), ('상승한', 0.17854), ('이상', 0.15888), ('기관', 0.1026), ('외국인', 0.09943)]\n"
     ]
    }
   ],
   "metadata": {}
  },
  {
   "cell_type": "code",
   "execution_count": 5,
   "source": [
    "with_up = df_with[df_with['주가변동'] == 1]\r\n",
    "with_down = df_with[df_with['주가변동'] == 0]\r\n",
    "\r\n",
    "with_up.shape, with_down.shape"
   ],
   "outputs": [
    {
     "output_type": "execute_result",
     "data": {
      "text/plain": [
       "((234192, 2), (234192, 2))"
      ]
     },
     "metadata": {},
     "execution_count": 5
    }
   ],
   "metadata": {}
  },
  {
   "cell_type": "code",
   "execution_count": 6,
   "source": [
    "with_up"
   ],
   "outputs": [
    {
     "output_type": "execute_result",
     "data": {
      "text/plain": [
       "                                             뉴스제목  주가변동\n",
       "0                 LG생활건강 숨37° 로시크숨마 황제의 빛 에디션’ 선봬     1\n",
       "1                  IRSK이노베이션 \"내년 시설투자 올해보다 낮은 수준\"     1\n",
       "3            브랜드 아파트 700만원대에 마련할 마지막 기회 사천 KCC스위첸     1\n",
       "4               윤종규 KB금융지주 회장 금융그룹 최초로 탈석탄 금융’ 선언     1\n",
       "7                      한경로보뉴스 '맥쿼리인프라' 52주 신고가 경신     1\n",
       "...                                           ...   ...\n",
       "468375  Hot-Line \"엘앤에프 상반기까지 실적 부진 예상돼 중장기적 접근\"목표     1\n",
       "468376      단독 백신 대란에SK바이오사이언스 독감 접고 코로나 백신 생산 올인     1\n",
       "468377       한진그룹 유휴자산 매각 주관사 삼정KPMG-삼성증권 컨소시엄 선정     1\n",
       "468378                  LG디스플레이 구미공장서 코로나19 9명 확진     1\n",
       "468381                       '하이트진로 3세' 박태영 사장 승진     1\n",
       "\n",
       "[234192 rows x 2 columns]"
      ],
      "text/html": [
       "<div>\n",
       "<style scoped>\n",
       "    .dataframe tbody tr th:only-of-type {\n",
       "        vertical-align: middle;\n",
       "    }\n",
       "\n",
       "    .dataframe tbody tr th {\n",
       "        vertical-align: top;\n",
       "    }\n",
       "\n",
       "    .dataframe thead th {\n",
       "        text-align: right;\n",
       "    }\n",
       "</style>\n",
       "<table border=\"1\" class=\"dataframe\">\n",
       "  <thead>\n",
       "    <tr style=\"text-align: right;\">\n",
       "      <th></th>\n",
       "      <th>뉴스제목</th>\n",
       "      <th>주가변동</th>\n",
       "    </tr>\n",
       "  </thead>\n",
       "  <tbody>\n",
       "    <tr>\n",
       "      <th>0</th>\n",
       "      <td>LG생활건강 숨37° 로시크숨마 황제의 빛 에디션’ 선봬</td>\n",
       "      <td>1</td>\n",
       "    </tr>\n",
       "    <tr>\n",
       "      <th>1</th>\n",
       "      <td>IRSK이노베이션 \"내년 시설투자 올해보다 낮은 수준\"</td>\n",
       "      <td>1</td>\n",
       "    </tr>\n",
       "    <tr>\n",
       "      <th>3</th>\n",
       "      <td>브랜드 아파트 700만원대에 마련할 마지막 기회 사천 KCC스위첸</td>\n",
       "      <td>1</td>\n",
       "    </tr>\n",
       "    <tr>\n",
       "      <th>4</th>\n",
       "      <td>윤종규 KB금융지주 회장 금융그룹 최초로 탈석탄 금융’ 선언</td>\n",
       "      <td>1</td>\n",
       "    </tr>\n",
       "    <tr>\n",
       "      <th>7</th>\n",
       "      <td>한경로보뉴스 '맥쿼리인프라' 52주 신고가 경신</td>\n",
       "      <td>1</td>\n",
       "    </tr>\n",
       "    <tr>\n",
       "      <th>...</th>\n",
       "      <td>...</td>\n",
       "      <td>...</td>\n",
       "    </tr>\n",
       "    <tr>\n",
       "      <th>468375</th>\n",
       "      <td>Hot-Line \"엘앤에프 상반기까지 실적 부진 예상돼 중장기적 접근\"목표</td>\n",
       "      <td>1</td>\n",
       "    </tr>\n",
       "    <tr>\n",
       "      <th>468376</th>\n",
       "      <td>단독 백신 대란에SK바이오사이언스 독감 접고 코로나 백신 생산 올인</td>\n",
       "      <td>1</td>\n",
       "    </tr>\n",
       "    <tr>\n",
       "      <th>468377</th>\n",
       "      <td>한진그룹 유휴자산 매각 주관사 삼정KPMG-삼성증권 컨소시엄 선정</td>\n",
       "      <td>1</td>\n",
       "    </tr>\n",
       "    <tr>\n",
       "      <th>468378</th>\n",
       "      <td>LG디스플레이 구미공장서 코로나19 9명 확진</td>\n",
       "      <td>1</td>\n",
       "    </tr>\n",
       "    <tr>\n",
       "      <th>468381</th>\n",
       "      <td>'하이트진로 3세' 박태영 사장 승진</td>\n",
       "      <td>1</td>\n",
       "    </tr>\n",
       "  </tbody>\n",
       "</table>\n",
       "<p>234192 rows × 2 columns</p>\n",
       "</div>"
      ]
     },
     "metadata": {},
     "execution_count": 6
    }
   ],
   "metadata": {}
  },
  {
   "cell_type": "code",
   "execution_count": 7,
   "source": [
    "with_down"
   ],
   "outputs": [
    {
     "output_type": "execute_result",
     "data": {
      "text/plain": [
       "                                     뉴스제목  주가변동\n",
       "2               수출입銀 CJ대한통운 해외채권 발행 공동 보증     0\n",
       "5               SK에너지GS칼텍스 공유경제동반성장 다 잡았다     0\n",
       "6           대한항공 화물 서비스 업그레이드\"원스톱 서비스 가능\"     0\n",
       "8                오스템임플란트 국세심판 통해 272억원 환급     0\n",
       "9       현대모비스 자율주행 첨단 센서로 '차량내부 안전시스템' 구축     0\n",
       "...                                   ...   ...\n",
       "468374          한샘 4분기 이후 실적 턴어라운드 예상-KTB     0\n",
       "468379      공매도 1조원 매물 쏟아져삼성전자 공매도 이틀째 1위     0\n",
       "468380          CJ제일제당 “글로벌 수준 경영 인프라 구축”     0\n",
       "468382        특징주 '형제의 난' 재점화 가능성에롯데지주 강세     0\n",
       "468383    KT주도 '클라우드 원팀'에 한컴 등 3개 기업기관 합류     0\n",
       "\n",
       "[234192 rows x 2 columns]"
      ],
      "text/html": [
       "<div>\n",
       "<style scoped>\n",
       "    .dataframe tbody tr th:only-of-type {\n",
       "        vertical-align: middle;\n",
       "    }\n",
       "\n",
       "    .dataframe tbody tr th {\n",
       "        vertical-align: top;\n",
       "    }\n",
       "\n",
       "    .dataframe thead th {\n",
       "        text-align: right;\n",
       "    }\n",
       "</style>\n",
       "<table border=\"1\" class=\"dataframe\">\n",
       "  <thead>\n",
       "    <tr style=\"text-align: right;\">\n",
       "      <th></th>\n",
       "      <th>뉴스제목</th>\n",
       "      <th>주가변동</th>\n",
       "    </tr>\n",
       "  </thead>\n",
       "  <tbody>\n",
       "    <tr>\n",
       "      <th>2</th>\n",
       "      <td>수출입銀 CJ대한통운 해외채권 발행 공동 보증</td>\n",
       "      <td>0</td>\n",
       "    </tr>\n",
       "    <tr>\n",
       "      <th>5</th>\n",
       "      <td>SK에너지GS칼텍스 공유경제동반성장 다 잡았다</td>\n",
       "      <td>0</td>\n",
       "    </tr>\n",
       "    <tr>\n",
       "      <th>6</th>\n",
       "      <td>대한항공 화물 서비스 업그레이드\"원스톱 서비스 가능\"</td>\n",
       "      <td>0</td>\n",
       "    </tr>\n",
       "    <tr>\n",
       "      <th>8</th>\n",
       "      <td>오스템임플란트 국세심판 통해 272억원 환급</td>\n",
       "      <td>0</td>\n",
       "    </tr>\n",
       "    <tr>\n",
       "      <th>9</th>\n",
       "      <td>현대모비스 자율주행 첨단 센서로 '차량내부 안전시스템' 구축</td>\n",
       "      <td>0</td>\n",
       "    </tr>\n",
       "    <tr>\n",
       "      <th>...</th>\n",
       "      <td>...</td>\n",
       "      <td>...</td>\n",
       "    </tr>\n",
       "    <tr>\n",
       "      <th>468374</th>\n",
       "      <td>한샘 4분기 이후 실적 턴어라운드 예상-KTB</td>\n",
       "      <td>0</td>\n",
       "    </tr>\n",
       "    <tr>\n",
       "      <th>468379</th>\n",
       "      <td>공매도 1조원 매물 쏟아져삼성전자 공매도 이틀째 1위</td>\n",
       "      <td>0</td>\n",
       "    </tr>\n",
       "    <tr>\n",
       "      <th>468380</th>\n",
       "      <td>CJ제일제당 “글로벌 수준 경영 인프라 구축”</td>\n",
       "      <td>0</td>\n",
       "    </tr>\n",
       "    <tr>\n",
       "      <th>468382</th>\n",
       "      <td>특징주 '형제의 난' 재점화 가능성에롯데지주 강세</td>\n",
       "      <td>0</td>\n",
       "    </tr>\n",
       "    <tr>\n",
       "      <th>468383</th>\n",
       "      <td>KT주도 '클라우드 원팀'에 한컴 등 3개 기업기관 합류</td>\n",
       "      <td>0</td>\n",
       "    </tr>\n",
       "  </tbody>\n",
       "</table>\n",
       "<p>234192 rows × 2 columns</p>\n",
       "</div>"
      ]
     },
     "metadata": {},
     "execution_count": 7
    }
   ],
   "metadata": {}
  },
  {
   "cell_type": "code",
   "execution_count": 20,
   "source": [
    "tokens_up = without_up.뉴스제목.values.tolist()\r\n",
    "title_text = ''\r\n",
    "for each_line in tokens_up:\r\n",
    "    title_text = title_text + each_line + '\\n'\r\n",
    "\r\n",
    "tokens_up = t.morphs(title_text)\r\n",
    "up = nltk.Text(tokens_up)\r\n",
    "print(\"토큰 전체 개수: \", len(up.tokens))          # 토큰 전체 개수\r\n",
    "print(\"토큰 unique 개수: \", len(set(up.tokens)))     # 토큰 unique 개수"
   ],
   "outputs": [
    {
     "output_type": "stream",
     "name": "stdout",
     "text": [
      "토큰 전체 개수:  2615081\n",
      "토큰 unique 개수:  44329\n"
     ]
    }
   ],
   "metadata": {}
  },
  {
   "cell_type": "code",
   "execution_count": 21,
   "source": [
    "tokens_down = without_down.뉴스제목.values.tolist()\r\n",
    "title_text = ''\r\n",
    "for each_line in tokens_down:\r\n",
    "    title_text = title_text + each_line + '\\n'\r\n",
    "\r\n",
    "tokens_down = t.morphs(title_text)\r\n",
    "down = nltk.Text(tokens_down)\r\n",
    "print(\"토큰 전체 개수: \", len(down.tokens))          # 토큰 전체 개수\r\n",
    "print(\"토큰 unique 개수: \", len(set(down.tokens)))     # 토큰 unique 개수"
   ],
   "outputs": [
    {
     "output_type": "stream",
     "name": "stdout",
     "text": [
      "토큰 전체 개수:  2616962\n",
      "토큰 unique 개수:  44942\n"
     ]
    }
   ],
   "metadata": {}
  },
  {
   "cell_type": "code",
   "execution_count": 29,
   "source": [
    "def returnNotMatches(a, b):\r\n",
    "    return [[x for x in a if x not in b], [x for x in b if x not in a]]\r\n",
    "\r\n",
    "up_only, down_only = returnNotMatches(tokens_up, tokens_down)"
   ],
   "outputs": [],
   "metadata": {}
  },
  {
   "cell_type": "code",
   "execution_count": 40,
   "source": [
    "len(up_only), len(down_only)"
   ],
   "outputs": [
    {
     "output_type": "execute_result",
     "data": {
      "text/plain": [
       "(25590, 26788)"
      ]
     },
     "metadata": {},
     "execution_count": 40
    }
   ],
   "metadata": {}
  },
  {
   "cell_type": "code",
   "execution_count": 30,
   "source": [
    "\r\n",
    "open_file = open('without_up_only.pkl', \"wb\")\r\n",
    "pickle.dump(up_only, open_file)\r\n",
    "open_file.close()\r\n",
    "\r\n",
    "open_file = open('without_down_only.pkl', \"wb\")\r\n",
    "pickle.dump(down_only, open_file)\r\n",
    "open_file.close()\r\n"
   ],
   "outputs": [],
   "metadata": {}
  },
  {
   "cell_type": "code",
   "execution_count": null,
   "source": [
    "open_file = open('without_up_only.pkl', \"rb\")\r\n",
    "up_only = pickle.load(open_file)\r\n",
    "open_file.close()\r\n",
    "open_file = open('without_down_only.pkl', \"rb\")\r\n",
    "down_only = pickle.load(open_file)\r\n",
    "open_file.close()"
   ],
   "outputs": [],
   "metadata": {}
  },
  {
   "cell_type": "code",
   "execution_count": 31,
   "source": [
    "len(down_only), len(up_only)"
   ],
   "outputs": [
    {
     "output_type": "execute_result",
     "data": {
      "text/plain": [
       "(26788, 25590)"
      ]
     },
     "metadata": {},
     "execution_count": 31
    }
   ],
   "metadata": {}
  },
  {
   "cell_type": "code",
   "execution_count": null,
   "source": [
    "print(down_only)"
   ],
   "outputs": [],
   "metadata": {}
  },
  {
   "cell_type": "code",
   "execution_count": 34,
   "source": [
    "stop_words = ['\\n ','\\n',\"'\",'…',',','[',']','(',')','\"','주','에','코스닥','특징','종목','·','장','코스피','증시','-','적',\\\r\n",
    "              '도','기술','분석','마감','‘','`','요약','가','’','의','이','오전','★','은','“','대','”','한','B','로',\\\r\n",
    "              '?','3','선','A','오후','는','5','!','\"…','상','들','1','만에','제','2','…\"','20','일','서','명',\"'…\",'기',\\\r\n",
    "              '···','10','소','등','으로','자','전','률','미','...','50','세','시','안','폭',\"…'\",'만','9','VI','까지',\\\r\n",
    "              '눈','더','e','량','고','인','52','성','띄네','1%','부터','다','감','을','지','4','에도','수','7','것','째',\\\r\n",
    "             '체크','기','···','중','계','관련','왜','1억원','총','내','과','젠','또','연','엔','차','굿모닝','할','8','.',\\\r\n",
    "             '보다','새','주간','전망','추천','이슈','플러스','사','개월','때','..','임','속','’…','G','나','개','원','에서',\\\r\n",
    "             '하는','이유','달','→','권','?…','단독','간','배','30','K','저','와','하','/','1조','6','두','해야','분','형',\\\r\n",
    "             '황','공','&','앞두고','보','문','이번','익','X','1억',']\"','치','산','를','오','해','S','우리','그','된','준','▶',\\\r\n",
    "             '건','재','반','라','10년','초','3분','월','신','p','급','조','줄','경','했다','구','진','이어','올','발','vs','강',\\\r\n",
    "             '국','9억','1년','난','판','면','\"(','`…','살','아','인데','번','텍','팜','8월','Q','메','2년','점','하고','10월',\\\r\n",
    "             'D','비','됐다','채',\"]'\",'보니','손','확','종','동','팔','40','타','~','9월','2100','30%','땐','말','한다','요',\\\r\n",
    "             \"',\",'스','…`','단','16','길','12','3억','회','될까','호','용','2조','번째','일까','듯','최']\r\n",
    "\r\n",
    "\r\n",
    "up_only = [each_word for each_word in up_only if each_word not in stop_words]\r\n",
    "up = nltk.Text(up_only)\r\n",
    "\r\n",
    "print(up.vocab().most_common(200))\r\n",
    "\r\n",
    "down_only = [each_word for each_word in down_only if each_word not in stop_words]\r\n",
    "down = nltk.Text(down_only)\r\n",
    "\r\n",
    "print(down.vocab().most_common(200))"
   ],
   "outputs": [
    {
     "output_type": "stream",
     "name": "stdout",
     "text": [
      "[('페시', 37), ('행정조사', 34), ('빈민가', 31), ('우륵', 30), ('다이나믹스', 26), ('권봉', 26), ('보쌈김치', 24), ('피나', 23), ('그랜버드', 23), ('할리데이비슨', 23), ('스피릿', 22), ('코윈', 21), ('배서', 20), ('유연석', 20), ('박태영', 20), ('졸레어', 19), ('임대규', 19), ('부르켓', 19), ('웨하스', 19), ('카페리선', 18), ('영계', 18), ('세종대', 18), ('생생우동', 18), ('외상', 18), ('CPhI', 18), ('동파', 18), ('보헴', 17), ('빌스', 17), ('프로게임단', 17), ('울란바토르', 17), ('\\u200c', 16), ('배기은', 16), ('UX', 16), ('서성환', 16), ('개비', 16), ('비니', 16), ('Powered', 15), ('정인호', 15), ('루카', 15), ('원빈', 15), ('민공', 15), ('왕건', 14), ('남원', 14), ('티프', 14), ('사이드바', 14), ('향남', 14), ('쇼콜라', 14), ('브플먼트', 14), ('키썸', 14), ('EOA', 14), ('키우', 14), ('리비아', 14), ('CVVD', 14), ('이채', 14), ('BIO', 14), ('콩국수', 14), ('테헤란로', 14), ('출자전환', 13), ('카프로', 13), ('최윤', 13), ('MCNS', 13), ('쿠키앤크림', 13), ('과테말라', 13), ('윤여철', 13), ('KBR', 13), ('오스프리', 13), ('미쯔', 13), ('실상', 13), ('정병국', 13), ('NPU', 13), ('스택', 13), ('겟트', 13), ('함부르크', 13), ('바르샤바', 13), ('주심', 13), ('유소연', 13), ('팅실', 13), ('XLPE', 12), ('귀농', 12), ('AIoT', 12), ('하이큐브', 12), ('송파대로', 12), ('웰치', 12), ('다롄시', 12), ('토다', 12), ('실리카겔', 12), ('스완', 12), ('팔렘방', 12), ('서호주', 12), ('계량', 12), ('기술표준', 12), ('라이너', 12), ('센슈', 12), ('채권자', 12), ('챗', 12), ('흰지팡이', 12), ('완성형', 12), ('리업', 12), ('박종문', 12), ('유로파리그', 12), ('홍제', 12), ('권총', 12), ('녹번역', 12), ('십장생', 12), ('셀테라', 12), ('김옥', 12), ('잠깨껌', 11), ('하례', 11), ('강권', 11), ('프로그래밍', 11), ('목함지뢰', 11), ('학습조직', 11), ('김태영', 11), ('프놈펜', 11), ('허지웅', 11), ('투닷', 11), ('광개토', 11), ('이기화', 11), ('코스타리카', 11), ('사뿐', 11), ('초인종', 11), ('하이킹', 11), ('피넛', 11), ('장민호', 11), ('되찾아', 11), ('SXSW', 11), ('CARE', 11), ('신상문', 11), ('파워블로거', 11), ('푸디슨', 11), ('테크니컬', 11), ('청음', 11), ('일본항공', 11), ('보문', 11), ('관함', 11), ('유쾌한', 11), ('대변인', 11), ('라포', 11), ('폴리페놀', 11), ('품질실', 11), ('코코넛', 11), ('연금술사', 11), ('후륜', 11), ('리스본', 10), ('GF', 10), ('윤아정', 10), ('해인', 10), ('낫', 10), ('카카오홈', 10), ('렌징', 10), ('플레옐', 10), ('시그마', 10), ('익수다에', 10), ('알지노', 10), ('EGLASS', 10), ('에델만', 10), ('쟌슨빌', 10), ('시간여행', 10), ('길터', 10), ('왕맥', 10), ('단백뇨', 10), ('MTU', 10), ('알베스', 10), ('이원우', 10), ('바이엘', 10), ('안일', 10), ('캠밀', 10), ('천연물', 10), ('병마개', 10), ('김태호', 10), ('포웰', 10), ('호박고구마', 10), ('정훈', 10), ('차일', 10), ('디젤동차', 10), ('튤립', 10), ('크루즈선', 10), ('에모리', 10), ('알렌', 10), ('마세라티', 10), ('퍼밋', 10), ('비상한', 10), ('무통', 10), ('무연', 9), ('연평도', 9), ('옥탑층', 9), ('자일리톨', 9), ('BA', 9), ('폴라', 9), ('Qt', 9), ('문익점', 9), ('리리', 9), ('썬데이', 9), ('죽당', 9), ('예체능', 9), ('특기', 9), ('장혜진', 9), ('이영준', 9), ('대장부', 9), ('코튼', 9)]\n",
      "[('참기름', 43), ('김대철', 28), ('바레인', 28), ('삿포로', 27), ('루버', 27), ('혼용', 26), ('일렉트로니카', 23), ('지권', 21), ('당화혈색소', 20), ('섬섬', 20), ('생굴', 20), ('스비', 19), ('DESIGN', 19), ('LOGISTICS', 19), ('관순', 19), ('루마니아', 19), ('DTG', 19), ('CRO', 19), ('AWP', 19), ('SJYP', 19), ('군부', 18), ('티오', 18), ('꿈지기', 18), ('신인상', 18), ('쿠부치', 18), ('바이어스도르프', 18), ('아이스티', 17), ('마라고수', 17), ('강황', 17), ('영화의전당', 17), ('신월', 17), ('코스메슈티컬', 16), ('스레드', 16), ('안종', 16), ('팝카드', 16), ('풍수', 16), ('군용차', 16), ('장오', 16), ('복권', 16), ('군위군', 16), ('멜버른', 16), ('수호천사', 16), ('눈꺼풀', 15), ('대림오토바이', 15), ('희구', 15), ('팬케익', 15), ('김규영', 15), ('함포', 15), ('에콰도르', 14), ('협탁', 14), ('소유권', 14), ('슈거', 14), ('모험가', 14), ('PSI', 14), ('꿀벌', 14), ('리막', 14), ('무파마', 14), ('공정무역', 14), ('고드름', 14), ('코란도', 14), ('준오', 14), ('배경화면', 14), ('이명', 14), ('OOTP', 14), ('BEAT', 13), ('스듀', 13), ('BTK', 13), ('오이김치', 13), ('필라델피아', 13), ('통근', 13), ('김난도', 13), ('양곡', 13), ('경항공모함', 13), ('괴정', 13), ('리포좀', 13), ('세리프', 13), ('웹진', 13), ('LNS', 13), ('알마티', 13), ('CR', 13), ('바로다', 12), ('폐어', 12), ('MHE', 12), ('철판', 12), ('이원진', 12), ('김소영', 12), ('무화과', 12), ('지상군', 12), ('실험동물', 12), ('김철수', 12), ('팝콘', 12), ('장국', 12), ('크레젯정', 12), ('GCGC', 12), ('재봉', 12), ('동바리', 12), ('레브', 12), ('ISEE', 12), ('리피', 12), ('잠금장치', 12), ('팜스', 12), ('나뚜찌', 12), ('가토', 12), ('휴메딕스', 12), ('컵누', 12), ('안효', 12), ('부패지수', 12), ('진미', 12), ('포주', 12), ('개포동', 12), ('스마일리', 12), ('이한상', 11), ('STC', 11), ('SAM', 11), ('스타우트', 11), ('히릿', 11), ('금송', 11), ('류신', 11), ('더원', 11), ('샤크', 11), ('루센티아', 11), ('그린티', 11), ('이갈이', 11), ('슈가', 11), ('쓰는지구', 11), ('텍메드', 11), ('스탠바이', 11), ('캄토벨', 11), ('이제훈', 11), ('히어', 11), ('택슐랭', 11), ('튜터', 11), ('아키타', 11), ('참진한', 11), ('팻', 11), ('사각사각', 11), ('운쌀칩', 11), ('이창환', 10), ('로보트', 10), ('태권', 10), ('터프츠', 10), ('박성우', 10), ('세입', 10), ('CVX', 10), ('프롤리', 10), ('간세포암', 10), ('포병', 10), ('통학버스', 10), ('메디웰', 10), ('변위', 10), ('페라이트', 10), ('Awards', 10), ('간질', 10), ('이성만', 10), ('김진호', 10), ('맛보기', 10), ('햇북', 10), ('정송주', 10), ('김정기', 10), ('유영환', 10), ('파운드', 10), ('채우기', 10), ('스타즈', 10), ('따지는', 10), ('실생활', 10), ('드센', 10), ('통목살', 10), ('씬즈', 10), ('광동성', 10), ('볶이', 10), ('왕상', 10), ('습기', 10), ('바이킹', 10), ('디밀과', 10), ('특가몰', 10), ('캔포', 10), ('자율이동', 10), ('AIIB', 10), ('무안군', 10), ('박제', 10), ('오룡', 10), ('연경', 10), ('요구르트', 10), ('서정호', 10), ('튼튼한', 10), ('디스커버', 10), ('테로', 10), ('아이나비', 10), ('로고송', 10), ('예찬', 10), ('차열', 9), ('약인', 9), ('우시시', 9), ('서울가요대상', 9), ('국도화학', 9), ('녹양역', 9), ('알스코', 9), ('LNGFSRU', 9), ('송배전', 9), ('DSP', 9)]\n"
     ]
    }
   ],
   "metadata": {}
  },
  {
   "cell_type": "code",
   "execution_count": 39,
   "source": [
    "# 그래프에서 한글 폰트가 깨질 경우 실행\r\n",
    "up = nltk.Text(up_only)\r\n",
    "down = nltk.Text(down_only)\r\n",
    "from matplotlib import font_manager, rc\r\n",
    "font_name = font_manager.FontProperties(fname='c:/Windows/Fonts/malgun.ttf').get_name()\r\n",
    "rc('font', family=font_name)\r\n",
    "\r\n",
    "plt.figure(figsize=(15,6))\r\n",
    "up.plot(50)\r\n",
    "plt.figure(figsize=(15,6))\r\n",
    "down.plot(50)\r\n",
    "plt.show()\r\n"
   ],
   "outputs": [
    {
     "output_type": "display_data",
     "data": {
      "text/plain": [
       "<Figure size 1080x432 with 1 Axes>"
      ],
      "image/png": "[encoded data removed]"
     },
     "metadata": {
      "needs_background": "light"
     }
    },
    {
     "output_type": "display_data",
     "data": {
      "text/plain": [
       "<Figure size 1080x432 with 1 Axes>"
      ],
      "image/png": "[encoded data removed]"
     },
     "metadata": {
      "needs_background": "light"
     }
    }
   ],
   "metadata": {}
  },
  {
   "cell_type": "code",
   "execution_count": null,
   "source": [
    "tokens_up = [each_word for each_word in tokens_up if each_word not in stop_words]\r\n",
    "up = nltk.Text(tokens_up)\r\n",
    "\r\n",
    "print(up.vocab().most_common(200))\r\n",
    "\r\n",
    "tokens_down = [each_word for each_word in tokens_down if each_word not in stop_words]\r\n",
    "down = nltk.Text(tokens_down)\r\n",
    "\r\n",
    "print(down.vocab().most_common(200))"
   ],
   "outputs": [],
   "metadata": {}
  },
  {
   "cell_type": "code",
   "execution_count": null,
   "source": [],
   "outputs": [],
   "metadata": {}
  },
  {
   "cell_type": "code",
   "execution_count": null,
   "source": [
    "# with open('without_title_text.pkl', 'wb') as f:\r\n",
    "#     pickle.dump(title_text, f)\r\n",
    "\r\n",
    "\r\n",
    "with open('./without_name/without_title_text.pkl', 'rb') as f:\r\n",
    "    title_text = pickle.load(f)"
   ],
   "outputs": [],
   "metadata": {}
  },
  {
   "cell_type": "code",
   "execution_count": null,
   "source": [
    "tokens_ko = t.morphs(title_text)\r\n",
    "ko = nltk.Text(tokens_ko)\r\n",
    "print(\"토큰 전체 개수: \", len(ko.tokens))          # 토큰 전체 개수\r\n",
    "print(\"토큰 unique 개수: \", len(set(ko.tokens)))     # 토큰 unique 개수"
   ],
   "outputs": [],
   "metadata": {}
  },
  {
   "cell_type": "code",
   "execution_count": null,
   "source": [
    "# '··',\"''\",'),','(-',')-','\",','],','\\n ',\\\r\n",
    "print(ko.vocab().most_common(200))\r\n",
    "stop_words = ['\\n',\"'\",'…',',','[',']','(',')','\"','주','에','코스닥','특징','종목','·','장','코스피','증시','-','적',\\\r\n",
    "              '도','기술','분석','마감','‘','`','요약','가','’','의','이','오전','★','은','“','대','”','한','B','로',\\\r\n",
    "              '?','3','선','A','오후','는','5','!','\"…','상','들','1','만에','제','2','…\"','20','일','서','명',\"'…\",'기',\\\r\n",
    "              '···','10','소','등','으로','자','전','률','미','...','50','세','시','안','폭',\"…'\",'만','9','VI','까지',\\\r\n",
    "              '눈','더','e','량','고','인','52','성','띄네','1%','부터','다','감','을','지','4','에도','수','7','것','째',\\\r\n",
    "             '체크','기','···','중','계','관련','왜','1억원','총','내','과','젠','또','연','엔','차','굿모닝','할','8','.',\\\r\n",
    "             '보다','새','주간','전망','추천','이슈','플러스','사','개월','때','..','임','속','’…','G','나','개','원','에서',\\\r\n",
    "             '하는','이유','달','→','권','?…','단독','간','배','30','K','저','와','하','/','1조','6','두','해야','분','형',\\\r\n",
    "             '황','공','&','앞두고','보','문','이번','익','X','1억',']\"','치','산','를','오','해','S','우리','그','된','준','▶',\\\r\n",
    "             '건','재','반','라','10년','초','3분','월','신','p','급','조','줄','경','했다','구','진','이어','올','발','vs','강',\\\r\n",
    "             '국','9억','1년','난','판','면','\"(','`…','살','아','인데','번','텍','팜','8월','Q','메','2년','점','하고','10월',\\\r\n",
    "             'D','비','됐다','채',\"]'\",'보니','손','확','종','동','팔','40','타','~','9월','2100','30%','땐','말','한다','요',\\\r\n",
    "             \"',\",'스','…`','단','16','길','12','3억','회','될까','호','용','2조','번째','일까','듯','최']\r\n",
    "\r\n",
    "tokens_ko = [each_word for each_word in tokens_ko if each_word not in stop_words]\r\n",
    "ko = nltk.Text(tokens_ko)\r\n",
    "\r\n",
    "\r\n",
    "\r\n",
    "# 그래프에서 한글 폰트가 깨질 경우 실행\r\n",
    "from matplotlib import font_manager, rc\r\n",
    "font_name = font_manager.FontProperties(fname='c:/Windows/Fonts/malgun.ttf').get_name()\r\n",
    "rc('font', family=font_name)\r\n",
    "\r\n",
    "plt.figure(figsize=(15,6))\r\n",
    "ko.plot(50)\r\n",
    "plt.show()\r\n"
   ],
   "outputs": [],
   "metadata": {}
  }
 ],
 "metadata": {
  "orig_nbformat": 4,
  "language_info": {
   "name": "python",
   "version": "3.9.6",
   "mimetype": "text/x-python",
   "codemirror_mode": {
    "name": "ipython",
    "version": 3
   },
   "pygments_lexer": "ipython3",
   "nbconvert_exporter": "python",
   "file_extension": ".py"
  },
  "kernelspec": {
   "name": "python3",
   "display_name": "Python 3.9.6 64-bit"
  },
  "interpreter": {
   "hash": "5bbcfba0af128e6b66c2bfbf999bccbbcb5a23b4768301f164b5fec2568e5d70"
  }
 },
 "nbformat": 4,
 "nbformat_minor": 2
}